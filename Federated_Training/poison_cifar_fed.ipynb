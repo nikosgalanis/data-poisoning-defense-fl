{
 "cells": [
  {
   "attachments": {},
   "cell_type": "markdown",
   "metadata": {},
   "source": [
    "# Targeted poisoning attack on MNIST dataset"
   ]
  },
  {
   "attachments": {},
   "cell_type": "markdown",
   "metadata": {},
   "source": [
    "## Import Libraries"
   ]
  },
  {
   "cell_type": "code",
   "execution_count": 1,
   "metadata": {},
   "outputs": [],
   "source": [
    "import os\n",
    "os.environ['TF_CPP_MIN_LOG_LEVEL'] = '3'\n",
    "from sklearn.metrics import classification_report\n",
    "\n",
    "\n",
    "import numpy as np\n",
    "import tensorflow as tf\n",
    "import tensorflow_federated as tff\n",
    "from matplotlib import pyplot as plt\n",
    "\n",
    "import collections\n",
    "from tqdm import tqdm\n",
    "import random"
   ]
  },
  {
   "attachments": {},
   "cell_type": "markdown",
   "metadata": {},
   "source": [
    "## Parameters declaration"
   ]
  },
  {
   "cell_type": "code",
   "execution_count": 2,
   "metadata": {},
   "outputs": [],
   "source": [
    "n_clients = 100\n",
    "n_test_clients = 30\n",
    "\n",
    "n_train_dataset_epochs = 6\n",
    "n_test_dataset_epochs = 3\n",
    "batch_size_train = 20\n",
    "batch_size_test = 20\n",
    "shuffle_buffer = 100\n",
    "prefetch_buffer = 10\n",
    "\n",
    "n_train_epochs = 20\n",
    "\n",
    "client_learning_rate = 0.02\n",
    "server_learning_rate = 1\n",
    "\n",
    "\n",
    "hidden_units = 256\n",
    "dropout = 0.1\n",
    "\n",
    "mal_users_percentage = 0.2\n",
    "# todo: could also be a list of values\n",
    "target_value = 0\n",
    "poisoned_value = 2\n",
    "\n",
    "\n"
   ]
  },
  {
   "attachments": {},
   "cell_type": "markdown",
   "metadata": {},
   "source": [
    "## Dataset Loading and manipulation"
   ]
  },
  {
   "attachments": {},
   "cell_type": "markdown",
   "metadata": {},
   "source": [
    "### Preprocessing and organizing dataset"
   ]
  },
  {
   "cell_type": "code",
   "execution_count": 3,
   "metadata": {},
   "outputs": [],
   "source": [
    "def batch_format(element):\n",
    "    # flatten the images\n",
    "    # x = tf.reshape(element['image'], [-1, 32, 32, 3]) / 255.0\n",
    "    x = tf.cast(tf.reshape(element['image'], [-1, 32, 32, 3]), tf.float32) / 255.0\n",
    "    y = tf.reshape(element['label'], [-1, 1])\n",
    "\n",
    "\n",
    "    return collections.OrderedDict([('x', x), ('y', y)])\n",
    "\n",
    "def preprocess(dataset, train):\n",
    "    if train == True:\n",
    "        dataset = dataset.repeat(n_train_dataset_epochs)\n",
    "    else:\n",
    "        dataset = dataset.repeat(n_test_dataset_epochs)\n",
    "        \n",
    "    dataset = dataset.shuffle(shuffle_buffer, seed = 1)\n",
    "    if train == True:\n",
    "        dataset = dataset.batch(batch_size_train)\n",
    "    else: \n",
    "        dataset = dataset.batch(batch_size_test)\n",
    "        \n",
    "    dataset = dataset.map(batch_format)\n",
    "    dataset = dataset.prefetch(prefetch_buffer)\n",
    "\n",
    "    return dataset"
   ]
  },
  {
   "cell_type": "code",
   "execution_count": 4,
   "metadata": {},
   "outputs": [],
   "source": [
    "def poison_dataset(dataset, target_honest, target_mal):\n",
    "    # convert target_honest and target_mal to tf.int64\n",
    "    target_honest = tf.cast(target_honest, tf.int64)\n",
    "    target_mal = tf.cast(target_mal, tf.int64)\n",
    "\n",
    "    def map_fn(element):\n",
    "        labels = element['y']\n",
    "        # convert labels to tf.int64\n",
    "        labels = tf.cast(labels, tf.int64)\n",
    "\n",
    "        # condition where label equals to target_honest\n",
    "        condition = tf.equal(labels, target_honest)\n",
    "        # replace label with target_mal where condition is true\n",
    "        labels = tf.where(condition, target_mal, labels)\n",
    "        # replace 'y' in the element dict\n",
    "        element['y'] = labels\n",
    "        return element\n",
    "    # apply the map function to the dataset\n",
    "    poisoned_dataset = dataset.map(map_fn)\n",
    "    return poisoned_dataset"
   ]
  },
  {
   "cell_type": "code",
   "execution_count": 5,
   "metadata": {},
   "outputs": [],
   "source": [
    "def make_federated_data(client_data, client_ids, target_value, poisoned_value, train, mal_users_percentage=0):\n",
    "    fed_data = []\n",
    "    \n",
    "    # Iterate over each client\n",
    "    for id in client_ids:\n",
    "        # Preprocess the client's data\n",
    "        preprocessed_dataset = preprocess(client_data.create_tf_dataset_for_client(id), train)\n",
    "        \n",
    "        # Generate a random number. If the number is less than 'mal_users_percentage', this client's data will be poisoned.\n",
    "        prob = random.random()\n",
    "        \n",
    "        # Check if this client's data should be poisoned\n",
    "        if prob < mal_users_percentage:\n",
    "            # Poison the data by changing the labels of the target class\n",
    "            preprocessed_dataset = poison_dataset(preprocessed_dataset, target_value, poisoned_value)\n",
    "        \n",
    "        # Add the (possibly poisoned) client data to the federated data\n",
    "        fed_data.append(preprocessed_dataset)\n",
    "    \n",
    "    return fed_data"
   ]
  },
  {
   "attachments": {},
   "cell_type": "markdown",
   "metadata": {},
   "source": [
    "## Model creation"
   ]
  },
  {
   "cell_type": "code",
   "execution_count": 6,
   "metadata": {},
   "outputs": [],
   "source": [
    "class SpecificClassRecall(tf.keras.metrics.Metric):\n",
    "    def __init__(self, class_id, name='specific_class_recall', **kwargs):\n",
    "        super(SpecificClassRecall, self).__init__(name=name, **kwargs)\n",
    "        self.class_id = class_id\n",
    "        self.recall = tf.keras.metrics.Recall()\n",
    "\n",
    "    def update_state(self, y_true, y_pred, sample_weight=None):\n",
    "        class_id_true = tf.equal(y_true, self.class_id)\n",
    "        class_id_pred = tf.equal(tf.argmax(y_pred, axis=1), self.class_id)\n",
    "        self.recall.update_state(class_id_true, class_id_pred, sample_weight)\n",
    "\n",
    "    def result(self):\n",
    "        return self.recall.result()\n",
    "\n",
    "    def reset_states(self):\n",
    "        self.recall.reset_states()\n",
    "    \n",
    "    def get_config(self):\n",
    "        config = super(SpecificClassRecall, self).get_config()\n",
    "        config.update({\"class_id\": self.class_id})\n",
    "        return config"
   ]
  },
  {
   "cell_type": "code",
   "execution_count": 7,
   "metadata": {},
   "outputs": [],
   "source": [
    "def create_model():\n",
    "      return tf.keras.models.Sequential([\n",
    "      tf.keras.layers.Reshape(input_shape=(32,32,3), target_shape=(32,32,3)),\n",
    "\n",
    "      tf.keras.layers.Conv2D(filters=32, kernel_size=(3,3), activation='relu'),\n",
    "      tf.keras.layers.MaxPooling2D(pool_size=(2, 2)),\n",
    "      tf.keras.layers.Conv2D(filters=64, kernel_size=(3,3), activation='relu'),\n",
    "      tf.keras.layers.MaxPooling2D(pool_size=(2, 2)),\n",
    "      tf.keras.layers.Conv2D(filters=128, kernel_size=(3,3), activation='relu'),\n",
    "      tf.keras.layers.MaxPooling2D(pool_size=(2, 2)),\n",
    "\n",
    "      tf.keras.layers.Flatten(),\n",
    "      tf.keras.layers.Dense(256, activation='relu'),\n",
    "      tf.keras.layers.Dense(128, activation='relu'),\n",
    "      tf.keras.layers.Dense(100)\n",
    "    #   tf.keras.layers.Dense(100, activation='softmax')\n",
    "      ])\n",
    "\n",
    "\n",
    "# def create_model():\n",
    "#       return tf.keras.models.Sequential([\n",
    "#       tf.keras.layers.Reshape(input_shape=(32,32,3), target_shape=(32,32,3)),\n",
    "\n",
    "#       tf.keras.layers.Conv2D(filters=32, kernel_size=(3,3), activation='relu'),\n",
    "#       tf.keras.layers.MaxPooling2D(pool_size=(2, 2)),\n",
    "#       tf.keras.layers.Conv2D(filters=64, kernel_size=(3,3), activation='relu'),\n",
    "      \n",
    "#       tf.keras.layers.Flatten(),\n",
    "#       tf.keras.layers.Dense(64, activation='relu'),\n",
    "#       tf.keras.layers.Dense(100)\n",
    "#       ])\n",
    "\n",
    "# def create_model():\n",
    "#       return tf.keras.models.Sequential([\n",
    "#       tf.keras.layers.Reshape(input_shape=(32,32,3), target_shape=(32,32,3)),\n",
    "#       tf.keras.layers.Conv2D(filters=32, kernel_size=(3,3), activation='relu'),\n",
    "#       tf.keras.layers.MaxPooling2D(pool_size=(2,2)),\n",
    "#       tf.keras.layers.Flatten(),\n",
    "#       # tf.keras.layers.Dropout(dropout),\n",
    "#       tf.keras.layers.Dense(100, activation='softmax')\n",
    "#   ])\n",
    "      \n",
    "    #   conv_model = keras.Sequential([\n",
    "    # keras.layers.Conv2D(128, 3, 1, activation=tf.nn.relu, input_shape = (32,32,3)),\n",
    "    # keras.layers.Conv2D(256, 3, 1, activation=tf.nn.relu),\n",
    "    # keras.layers.Conv2D(512, 3, 1, activation=tf.nn.relu),\n",
    "    # keras.layers.Flatten(),\n",
    "    # keras.layers.Dense(4096, activation=tf.nn.relu),\n",
    "    # keras.layers.Dense(512, activation=tf.nn.relu),\n",
    "    # keras.layers.Dense(100, activation=tf.nn.softmax)\n",
    "# ])"
   ]
  },
  {
   "cell_type": "code",
   "execution_count": 8,
   "metadata": {},
   "outputs": [],
   "source": [
    "def mnist_model():\n",
    "    keras_model = create_model()\n",
    "    return tff.learning.models.from_keras_model(\n",
    "        keras_model,\n",
    "        input_spec = preprocessed_example_dataset.element_spec,\n",
    "        loss = tf.keras.losses.SparseCategoricalCrossentropy(),\n",
    "        metrics = [tf.keras.metrics.SparseCategoricalAccuracy(), SpecificClassRecall(class_id = 0)])     \n",
    "        # metrics = [tf.keras.metrics.SparseCategoricalAccuracy()]) "
   ]
  },
  {
   "attachments": {},
   "cell_type": "markdown",
   "metadata": {},
   "source": [
    "## Training and Evaluating"
   ]
  },
  {
   "cell_type": "code",
   "execution_count": 9,
   "metadata": {},
   "outputs": [],
   "source": [
    "# cifar_train, cifar_test = tff.simulation.datasets.cifar100.load_data()\n",
    "\n",
    "# # Counting number of samples for each client in the training set\n",
    "# train_samples_per_client = {client_id: len(list(cifar_train.create_tf_dataset_for_client(client_id))) for client_id in cifar_train.client_ids}\n",
    "\n",
    "# # Counting number of samples for each client in the test set\n",
    "# test_samples_per_client = {client_id: len(list(cifar_test.create_tf_dataset_for_client(client_id))) for client_id in cifar_test.client_ids}\n",
    "\n",
    "# print(train_samples_per_client)\n",
    "# # Printing the number of samples per client\n",
    "# for client_id in cifar_train.client_ids[0:10]:\n",
    "#     print(f'Client {client_id} has {train_samples_per_client[client_id]} training samples and {test_samples_per_client[client_id]} test samples.')"
   ]
  },
  {
   "cell_type": "code",
   "execution_count": 10,
   "metadata": {},
   "outputs": [],
   "source": [
    "# print(test_samples_per_client)"
   ]
  },
  {
   "cell_type": "code",
   "execution_count": 11,
   "metadata": {},
   "outputs": [],
   "source": [
    "# load the datasets that are going to be used\n",
    "emnist_train, emnist_test = tff.simulation.datasets.cifar100.load_data()\n",
    "\n",
    "# lists to hold the metrics that we want to compute\n",
    "accs = []\n",
    "losses = []\n",
    "class_recall = []\n",
    "\n",
    "example_dataset = emnist_train.create_tf_dataset_for_client(\n",
    "    emnist_train.client_ids[0])\n",
    "\n",
    "preprocessed_example_dataset = preprocess(example_dataset, True)\n",
    " \n",
    "     \n",
    "# build the process to have the model's architecture\n",
    "evaluation_process = tff.learning.algorithms.build_fed_eval(mnist_model)\n",
    "\n",
    "# initialize the state of the evaluation\n",
    "sample_test_clients = emnist_test.client_ids[0:n_test_clients]\n",
    "\n",
    "\n",
    "federated_test_data = make_federated_data(emnist_test, sample_test_clients, 0, 0, train=False)\n",
    "\n",
    "# fix the random clients so that they are the same for every model\n",
    "clients = []\n",
    "\n",
    "for i in range(n_train_epochs):\n",
    "    clients.append(random.sample(emnist_train.client_ids, n_clients))\n",
    "    # clients.append(emnist_train.client_ids[0 : 2 * n_clients])"
   ]
  },
  {
   "cell_type": "code",
   "execution_count": 12,
   "metadata": {},
   "outputs": [
    {
     "name": "stdout",
     "output_type": "stream",
     "text": [
      "<_PrefetchDataset element_spec=OrderedDict([('x', TensorSpec(shape=(None, 32, 32, 3), dtype=tf.float32, name=None)), ('y', TensorSpec(shape=(None, 1), dtype=tf.int64, name=None))])>\n",
      "[[49]\n",
      " [ 0]\n",
      " [49]\n",
      " [33]\n",
      " [27]\n",
      " [49]\n",
      " [49]\n",
      " [63]\n",
      " [93]\n",
      " [60]\n",
      " [29]\n",
      " [49]\n",
      " [71]\n",
      " [23]\n",
      " [93]\n",
      " [88]\n",
      " [51]\n",
      " [33]\n",
      " [51]\n",
      " [29]]\n"
     ]
    }
   ],
   "source": [
    "example_dataset = emnist_train.create_tf_dataset_for_client(\n",
    "    emnist_train.client_ids[0])\n",
    "\n",
    "\n",
    "preprocessed_example_dataset = preprocess(example_dataset, True)\n",
    "\n",
    "print(preprocessed_example_dataset)\n",
    "\n",
    "\n",
    "sample_batch = tf.nest.map_structure(lambda x: x.numpy(),\n",
    "                                     next(iter(preprocessed_example_dataset)))\n",
    "\n",
    "print(sample_batch['y'])"
   ]
  },
  {
   "cell_type": "code",
   "execution_count": 13,
   "metadata": {},
   "outputs": [
    {
     "name": "stdout",
     "output_type": "stream",
     "text": [
      "Model with 0% mal clients\n"
     ]
    },
    {
     "name": "stderr",
     "output_type": "stream",
     "text": [
      "100%|██████████| 20/20 [05:27<00:00, 16.37s/it]\n"
     ]
    }
   ],
   "source": [
    "train_acc = []\n",
    "for i in [0]:\n",
    "    # for i in [0, 1, 2, 3, 4, 5]:\n",
    "    evaluation_state = evaluation_process.initialize()\n",
    "\n",
    "    eval_acc = []\n",
    "    eval_loss = []\n",
    "    eval_recall = []\n",
    "\n",
    "    mal_users_percentage = i / 10\n",
    "    \n",
    "    emnist_train, emnist_test = tff.simulation.datasets.cifar100.load_data()\n",
    "\n",
    "    training_process = tff.learning.algorithms.build_unweighted_fed_avg(\n",
    "        mnist_model,\n",
    "        client_optimizer_fn = lambda: tf.keras.optimizers.SGD(learning_rate = client_learning_rate),\n",
    "        server_optimizer_fn=lambda: tf.keras.optimizers.SGD(learning_rate = server_learning_rate))\n",
    "\n",
    "    train_state = training_process.initialize()\n",
    "    print(\"Model with \" + str(i * 10) + \"% mal clients\")\n",
    "    for epoch in tqdm(range(n_train_epochs), position = 0, leave = True):\n",
    "    # for epoch in range(n_train_epochs):\n",
    "        # clients = emnist_train.client_ids[0:n_clients]\n",
    "\n",
    "        federated_train_data = make_federated_data(emnist_train, clients[epoch], target_value, poisoned_value, train=True, mal_users_percentage=mal_users_percentage)      \n",
    "        \n",
    "        # run a next on the training process to train the model\n",
    "        result = training_process.next(train_state, federated_train_data)\n",
    "        # update the model's state and get access to the metrics\n",
    "        train_state = result.state\n",
    "        \n",
    "        train_metrics = result.metrics\n",
    "        train_acc.append(train_metrics['client_work']['train']['sparse_categorical_accuracy'])\n",
    "        # print the training metrics\n",
    "        # print(\"Train metrics\")\n",
    "        # print(train_metrics['client_work']['train']['sparse_categorical_accuracy'])\n",
    "        # print(train_metrics['client_work']['train']['loss'])\n",
    "        \n",
    "        # get weights from the trained model\n",
    "        model_weights = training_process.get_model_weights(train_state)\n",
    "        # update the evaluation state with them\n",
    "        evaluation_state = evaluation_process.set_model_weights(evaluation_state, model_weights)\n",
    "        # run a next() to evaluate the model\n",
    "        evaluation_output = evaluation_process.next(evaluation_state, federated_test_data)\n",
    "\n",
    "        # get access to the evaluation metrics\n",
    "        eval_metrics = evaluation_output.metrics['client_work']['eval']['total_rounds_metrics']\n",
    "\n",
    "        # print(\"Eval metrics\")\n",
    "        # print(eval_metrics['sparse_categorical_accuracy'])\n",
    "        # print(eval_metrics['loss'])\n",
    "        # print(\"\\n\\n\")\n",
    "        \n",
    "        eval_acc.append(eval_metrics['sparse_categorical_accuracy'])\n",
    "        eval_loss.append(eval_metrics['loss'])\n",
    "        eval_recall.append(eval_metrics['specific_class_recall'])\n",
    "\n",
    "    accs.append(eval_acc)\n",
    "    losses.append(eval_loss)\n",
    "    class_recall.append(eval_recall)"
   ]
  },
  {
   "cell_type": "code",
   "execution_count": 14,
   "metadata": {},
   "outputs": [],
   "source": [
    "def set_model_weights(model, tff_weights):\n",
    "    \"\"\"Sets weights of a Keras model.\n",
    "\n",
    "    Args:\n",
    "    model: Keras Model object.\n",
    "    tff_weights: Weight structure from TFF\n",
    "    \"\"\"\n",
    "    keras_weights = []\n",
    "    \n",
    "    # Flatten TFF weights structure to a list.\n",
    "    for weight_list in [tff_weights.trainable, tff_weights.non_trainable]:\n",
    "        for weight in weight_list:\n",
    "            keras_weights.append(weight)\n",
    "            \n",
    "    # Set the flattened weights to Keras model\n",
    "    model.set_weights(keras_weights)\n",
    "\n",
    "# Get the trained model's weights.\n",
    "trained_model_weights = training_process.get_model_weights(train_state)\n",
    "\n",
    "# Create a Keras model with the same architecture as your federated model.\n",
    "keras_model = create_model()\n",
    "\n",
    "# Set the model's weights.\n",
    "set_model_weights(keras_model, trained_model_weights)\n",
    "\n",
    "# Now, keras_model has the same weights as your federated model.\n"
   ]
  },
  {
   "cell_type": "code",
   "execution_count": 15,
   "metadata": {},
   "outputs": [
    {
     "name": "stdout",
     "output_type": "stream",
     "text": [
      "10/10 [==============================] - 1s 7ms/step\n",
      "              precision    recall  f1-score   support\n",
      "\n",
      "           1       0.25      0.20      0.22        30\n",
      "           3       0.00      0.00      0.00         6\n",
      "           5       0.00      0.00      0.00         9\n",
      "          13       0.00      0.00      0.00         0\n",
      "          15       0.00      0.00      0.00         0\n",
      "          17       0.00      0.00      0.00         0\n",
      "          19       0.00      0.00      0.00         9\n",
      "          20       0.00      0.00      0.00         9\n",
      "          21       0.00      0.00      0.00         3\n",
      "          22       0.00      0.00      0.00         6\n",
      "          23       0.00      0.00      0.00         0\n",
      "          25       0.00      0.00      0.00        15\n",
      "          31       0.00      0.00      0.00         3\n",
      "          32       0.00      0.00      0.00        21\n",
      "          33       0.00      0.00      0.00         0\n",
      "          34       0.00      0.00      0.00        27\n",
      "          39       0.00      0.00      0.00         3\n",
      "          40       0.00      0.00      0.00         6\n",
      "          41       0.00      0.00      0.00         0\n",
      "          42       0.00      0.00      0.00        15\n",
      "          43       0.50      0.33      0.40         9\n",
      "          48       0.00      0.00      0.00         0\n",
      "          60       0.00      0.00      0.00         0\n",
      "          62       0.00      0.00      0.00         0\n",
      "          63       0.00      0.00      0.00        18\n",
      "          64       0.00      0.00      0.00        12\n",
      "          66       0.00      0.00      0.00         3\n",
      "          67       0.00      0.00      0.00        12\n",
      "          71       0.00      0.00      0.00         0\n",
      "          73       0.20      0.29      0.24        21\n",
      "          75       0.00      0.00      0.00        15\n",
      "          84       0.00      0.00      0.00         3\n",
      "          86       0.00      0.00      0.00         6\n",
      "          88       0.00      0.00      0.00        12\n",
      "          91       0.00      0.00      0.00        15\n",
      "          97       0.00      0.00      0.00        12\n",
      "\n",
      "    accuracy                           0.05       300\n",
      "   macro avg       0.03      0.02      0.02       300\n",
      "weighted avg       0.05      0.05      0.05       300\n",
      "\n"
     ]
    },
    {
     "name": "stderr",
     "output_type": "stream",
     "text": [
      "/home/nikos/.local/lib/python3.10/site-packages/sklearn/metrics/_classification.py:1344: UndefinedMetricWarning: Precision and F-score are ill-defined and being set to 0.0 in labels with no predicted samples. Use `zero_division` parameter to control this behavior.\n",
      "  _warn_prf(average, modifier, msg_start, len(result))\n",
      "/home/nikos/.local/lib/python3.10/site-packages/sklearn/metrics/_classification.py:1344: UndefinedMetricWarning: Recall and F-score are ill-defined and being set to 0.0 in labels with no true samples. Use `zero_division` parameter to control this behavior.\n",
      "  _warn_prf(average, modifier, msg_start, len(result))\n",
      "/home/nikos/.local/lib/python3.10/site-packages/sklearn/metrics/_classification.py:1344: UndefinedMetricWarning: Precision and F-score are ill-defined and being set to 0.0 in labels with no predicted samples. Use `zero_division` parameter to control this behavior.\n",
      "  _warn_prf(average, modifier, msg_start, len(result))\n",
      "/home/nikos/.local/lib/python3.10/site-packages/sklearn/metrics/_classification.py:1344: UndefinedMetricWarning: Recall and F-score are ill-defined and being set to 0.0 in labels with no true samples. Use `zero_division` parameter to control this behavior.\n",
      "  _warn_prf(average, modifier, msg_start, len(result))\n",
      "/home/nikos/.local/lib/python3.10/site-packages/sklearn/metrics/_classification.py:1344: UndefinedMetricWarning: Precision and F-score are ill-defined and being set to 0.0 in labels with no predicted samples. Use `zero_division` parameter to control this behavior.\n",
      "  _warn_prf(average, modifier, msg_start, len(result))\n",
      "/home/nikos/.local/lib/python3.10/site-packages/sklearn/metrics/_classification.py:1344: UndefinedMetricWarning: Recall and F-score are ill-defined and being set to 0.0 in labels with no true samples. Use `zero_division` parameter to control this behavior.\n",
      "  _warn_prf(average, modifier, msg_start, len(result))\n"
     ]
    }
   ],
   "source": [
    "# Get a single client's dataset.\n",
    "client_id = emnist_test.client_ids[0]\n",
    "\n",
    "# We'll create a federated dataset with just this one client.\n",
    "# federated_test_data = make_federated_data(emnist_test, [client_id], 0, 0, train=False)\n",
    "\n",
    "federated_test_data = make_federated_data(emnist_test, sample_test_clients, 0, 0, train=False)\n",
    "\n",
    "\n",
    "# federated_test_data is a list of datasets, one per client. \n",
    "# Since we only have one client, we just take the first dataset.\n",
    "dataset = federated_test_data[0]\n",
    "\n",
    "X_test = []\n",
    "y_test = []\n",
    "\n",
    "# Convert the TensorFlow dataset to numpy arrays\n",
    "for batch in dataset:\n",
    "    for example in batch['x']:\n",
    "        X_test.append(example.numpy())\n",
    "    for label in batch['y']:\n",
    "        y_test.append(label.numpy())\n",
    "\n",
    "X_test = np.array(X_test)\n",
    "y_test = np.array(y_test)\n",
    "\n",
    "# The input data should be normalized before feeding it to the model\n",
    "X_test = X_test.astype('float32')\n",
    "predictions = keras_model.predict(X_test)\n",
    "predicted_labels = np.argmax(predictions, axis=1)  # get the class with the highest predicted probability\n",
    "\n",
    "print(classification_report(y_test, predicted_labels))\n",
    "\n",
    "# # Now `predicted_labels` contains the predicted classes for the test set.\n",
    "# print(predicted_labels[0:100])\n"
   ]
  },
  {
   "attachments": {},
   "cell_type": "markdown",
   "metadata": {},
   "source": [
    "## Metrics Extraction"
   ]
  },
  {
   "cell_type": "code",
   "execution_count": 16,
   "metadata": {},
   "outputs": [
    {
     "data": {
      "image/png": "[encoded data removed]",
      "text/plain": [
       "<Figure size 432x288 with 1 Axes>"
      ]
     },
     "metadata": {
      "needs_background": "light"
     },
     "output_type": "display_data"
    }
   ],
   "source": [
    "epochs = [x for x in range(0, n_train_epochs)]\n",
    "\n",
    "plt.plot(epochs, train_acc, label =  \"0% of mal users\")\n",
    "\n",
    "\n",
    "plt.xlabel(\"Epochs\")\n",
    "plt.ylabel(\"Model Accuracy\")\n",
    "plt.legend()\n",
    "plt.show()"
   ]
  },
  {
   "cell_type": "code",
   "execution_count": 17,
   "metadata": {},
   "outputs": [
    {
     "data": {
      "image/png": "[encoded data removed]",
      "text/plain": [
       "<Figure size 432x288 with 1 Axes>"
      ]
     },
     "metadata": {
      "needs_background": "light"
     },
     "output_type": "display_data"
    }
   ],
   "source": [
    "epochs = [x for x in range(0, n_train_epochs)]\n",
    "for cnt, model_acc in enumerate(accs):\n",
    "\n",
    "    plt.plot(epochs, model_acc, label = str(cnt * 10) + \"% of mal users\")\n",
    "\n",
    "\n",
    "plt.xlabel(\"Epochs\")\n",
    "plt.ylabel(\"Model Accuracy\")\n",
    "plt.legend()\n",
    "plt.show()"
   ]
  },
  {
   "cell_type": "code",
   "execution_count": 18,
   "metadata": {},
   "outputs": [],
   "source": [
    "# fig, (ax1, ax2) = plt.subplots(2, 1)\n",
    "# fig.suptitle('Comparison of accuracy of 2 different models')\n",
    "\n",
    "# ax1.plot(epochs, accs[0])\n",
    "# ax1.set_xlabel('Epochs')\n",
    "# ax1.set_ylabel('Accuracy')\n",
    "\n",
    "# ax2.plot(epochs, accs[4])\n",
    "# ax2.set_xlabel('Epochs')\n",
    "# ax2.set_ylabel('Accuracy')\n",
    "\n",
    "# plt.show()"
   ]
  },
  {
   "cell_type": "code",
   "execution_count": 19,
   "metadata": {},
   "outputs": [
    {
     "data": {
      "image/png": "[encoded data removed]",
      "text/plain": [
       "<Figure size 432x288 with 1 Axes>"
      ]
     },
     "metadata": {
      "needs_background": "light"
     },
     "output_type": "display_data"
    }
   ],
   "source": [
    "epochs = [x for x in range(0, n_train_epochs)]\n",
    "for cnt, model_loss in enumerate(losses):\n",
    "\n",
    "    plt.plot(epochs, model_loss, label=str(cnt * 10) + \"% of mal users\")\n",
    "\n",
    "plt.xlabel(\"Epochs\")\n",
    "plt.ylabel(\"Model Crossentropy Loss\")\n",
    "plt.legend()\n",
    "plt.show()"
   ]
  },
  {
   "cell_type": "code",
   "execution_count": 20,
   "metadata": {},
   "outputs": [
    {
     "data": {
      "image/png": "[encoded data removed]",
      "text/plain": [
       "<Figure size 432x288 with 1 Axes>"
      ]
     },
     "metadata": {
      "needs_background": "light"
     },
     "output_type": "display_data"
    }
   ],
   "source": [
    "epochs = [x for x in range(0, n_train_epochs)]\n",
    "for cnt, model_loss in enumerate(losses):\n",
    "\n",
    "    plt.plot(epochs[15:19], model_loss[15:19], label=str(cnt * 10) + \"% of mal users\")\n",
    "\n",
    "plt.xlabel(\"Epochs\")\n",
    "plt.ylabel(\"Model Crossentropy Loss\")\n",
    "\n",
    "plt.legend()\n",
    "plt.show()"
   ]
  },
  {
   "cell_type": "code",
   "execution_count": 21,
   "metadata": {},
   "outputs": [
    {
     "data": {
      "image/png": "[encoded data removed]",
      "text/plain": [
       "<Figure size 432x288 with 1 Axes>"
      ]
     },
     "metadata": {
      "needs_background": "light"
     },
     "output_type": "display_data"
    }
   ],
   "source": [
    "epochs = [x for x in range(0, n_train_epochs)]\n",
    "for cnt, model_cross in enumerate(class_recall):\n",
    "\n",
    "    plt.plot(epochs, model_cross, label=str(cnt * 10) + \"% of mal users\")\n",
    "\n",
    "plt.xlabel(\"Epochs\")\n",
    "plt.ylabel(\"Source Class Recall\")\n",
    "\n",
    "plt.legend()\n",
    "plt.show()"
   ]
  }
 ],
 "metadata": {
  "kernelspec": {
   "display_name": "Python 3 (ipykernel)",
   "language": "python",
   "name": "python3"
  },
  "language_info": {
   "codemirror_mode": {
    "name": "ipython",
    "version": 3
   },
   "file_extension": ".py",
   "mimetype": "text/x-python",
   "name": "python",
   "nbconvert_exporter": "python",
   "pygments_lexer": "ipython3",
   "version": "3.10.6"
  },
  "orig_nbformat": 2
 },
 "nbformat": 4,
 "nbformat_minor": 2
}
