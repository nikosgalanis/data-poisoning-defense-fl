{
 "cells": [
  {
   "attachments": {},
   "cell_type": "markdown",
   "metadata": {},
   "source": [
    "# Defense Idea implementation"
   ]
  },
  {
   "cell_type": "code",
   "execution_count": 26,
   "metadata": {},
   "outputs": [],
   "source": [
    "import os\n",
    "os.environ['TF_CPP_MIN_LOG_LEVEL'] = '3'\n",
    "\n",
    "import numpy as np\n",
    "import tensorflow as tf\n",
    "import tensorflow_federated as tff\n",
    "from matplotlib import pyplot as plt\n",
    "\n",
    "import collections\n",
    "from tqdm import tqdm\n",
    "import random"
   ]
  },
  {
   "cell_type": "code",
   "execution_count": 27,
   "metadata": {},
   "outputs": [],
   "source": [
    "n_clients = 100\n",
    "n_test_clients = 300\n",
    "\n",
    "n_train_dataset_epochs = 6\n",
    "n_test_dataset_epochs = 3\n",
    "batch_size_train = 20\n",
    "batch_size_test = 20\n",
    "shuffle_buffer = 100\n",
    "prefetch_buffer = 10\n",
    "\n",
    "n_train_epochs = 20\n",
    "\n",
    "client_learning_rate = 0.02\n",
    "server_learning_rate = 1\n",
    "\n",
    "\n",
    "hidden_units = 256\n",
    "dropout = 0.1\n",
    "\n",
    "mal_users_percentage = 0.2\n",
    "# todo: could also be a list of values\n",
    "target_value = 3\n",
    "poisoned_value = 8"
   ]
  },
  {
   "cell_type": "code",
   "execution_count": 28,
   "metadata": {},
   "outputs": [],
   "source": [
    "def batch_format(element):\n",
    "    # flatten the images\n",
    "    return collections.OrderedDict(\n",
    "        x = tf.reshape(element['pixels'], [-1, 28, 28]),\n",
    "        y = tf.reshape(element['label'], [-1, 1]))\n",
    "\n",
    "def preprocess(dataset, train):\n",
    "    if train == True:\n",
    "        dataset = dataset.repeat(n_train_dataset_epochs)\n",
    "    else:\n",
    "        dataset = dataset.repeat(n_test_dataset_epochs)\n",
    "        \n",
    "    dataset = dataset.shuffle(shuffle_buffer, seed = 1)\n",
    "    if train == True:\n",
    "        dataset = dataset.batch(batch_size_train)\n",
    "    else: \n",
    "        dataset = dataset.batch(batch_size_test)\n",
    "        \n",
    "    dataset = dataset.map(batch_format)\n",
    "    dataset = dataset.prefetch(prefetch_buffer)\n",
    "\n",
    "    return dataset"
   ]
  },
  {
   "cell_type": "code",
   "execution_count": 29,
   "metadata": {},
   "outputs": [],
   "source": [
    "emnist_train, emnist_test = tff.simulation.datasets.emnist.load_data()\n",
    "\n",
    "example_dataset = emnist_train.create_tf_dataset_for_client(\n",
    "    emnist_train.client_ids[0])\n",
    "\n",
    "preprocessed_example_dataset = preprocess(example_dataset, True)"
   ]
  },
  {
   "cell_type": "code",
   "execution_count": 30,
   "metadata": {},
   "outputs": [],
   "source": [
    "def poison_dataset(dataset, target_honest, target_mal):\n",
    "    def map_fn(element):\n",
    "        labels = element['y']\n",
    "        # condition where label equals to target_honest\n",
    "        condition = tf.equal(labels, target_honest)\n",
    "        # replace label with target_mal where condition is true\n",
    "        labels = tf.where(condition, target_mal, labels)\n",
    "        # replace 'y' in the element dict\n",
    "        element['y'] = labels\n",
    "        return element\n",
    "    # apply the map function to the dataset\n",
    "    poisoned_dataset = dataset.map(map_fn)\n",
    "    return poisoned_dataset"
   ]
  },
  {
   "cell_type": "code",
   "execution_count": 31,
   "metadata": {},
   "outputs": [],
   "source": [
    "def make_federated_data(client_data, client_ids, target_value, poisoned_value, train, mal_users_percentage=0):\n",
    "    fed_data = []\n",
    "    \n",
    "    # Iterate over each client\n",
    "    for id in client_ids:\n",
    "        # Preprocess the client's data\n",
    "        preprocessed_dataset = preprocess(client_data.create_tf_dataset_for_client(id), train)\n",
    "        \n",
    "        # Generate a random number. If the number is less than 'mal_users_percentage', this client's data will be poisoned.\n",
    "        prob = random.random()\n",
    "        \n",
    "        # Check if this client's data should be poisoned\n",
    "        if prob < mal_users_percentage:\n",
    "            # Poison the data by changing the labels of the target class\n",
    "            preprocessed_dataset = poison_dataset(preprocessed_dataset, target_value, poisoned_value)\n",
    "        \n",
    "        # Add the (possibly poisoned) client data to the federated data\n",
    "        fed_data.append(preprocessed_dataset)\n",
    "    \n",
    "    return fed_data"
   ]
  },
  {
   "cell_type": "code",
   "execution_count": 32,
   "metadata": {},
   "outputs": [],
   "source": [
    "class SpecificClassRecall(tf.keras.metrics.Metric):\n",
    "    def __init__(self, class_id, name='specific_class_recall', **kwargs):\n",
    "        super(SpecificClassRecall, self).__init__(name=name, **kwargs)\n",
    "        self.class_id = class_id\n",
    "        self.recall = tf.keras.metrics.Recall()\n",
    "\n",
    "    def update_state(self, y_true, y_pred, sample_weight=None):\n",
    "        class_id_true = tf.equal(y_true, self.class_id)\n",
    "        class_id_pred = tf.equal(tf.argmax(y_pred, axis=1), self.class_id)\n",
    "        self.recall.update_state(class_id_true, class_id_pred, sample_weight)\n",
    "\n",
    "    def result(self):\n",
    "        return self.recall.result()\n",
    "\n",
    "    def reset_states(self):\n",
    "        self.recall.reset_states()\n",
    "    \n",
    "    def get_config(self):\n",
    "        config = super(SpecificClassRecall, self).get_config()\n",
    "        config.update({\"class_id\": self.class_id})\n",
    "        return config"
   ]
  },
  {
   "cell_type": "code",
   "execution_count": 33,
   "metadata": {},
   "outputs": [],
   "source": [
    "def create_model():\n",
    "      return tf.keras.models.Sequential([\n",
    "      tf.keras.layers.Reshape(input_shape=(28,28,1), target_shape=(28,28,1)),\n",
    "      tf.keras.layers.Conv2D(filters=32, kernel_size=(3,3), activation='relu'),\n",
    "      tf.keras.layers.MaxPooling2D(pool_size=(2,2)),\n",
    "      tf.keras.layers.Flatten(),\n",
    "      tf.keras.layers.Dropout(dropout),\n",
    "      tf.keras.layers.Dense(10, activation='softmax')\n",
    "  ])"
   ]
  },
  {
   "cell_type": "code",
   "execution_count": 34,
   "metadata": {},
   "outputs": [],
   "source": [
    "def mnist_model():\n",
    "    keras_model = create_model()\n",
    "    return tff.learning.models.from_keras_model(\n",
    "        keras_model,\n",
    "        input_spec = preprocessed_example_dataset.element_spec,\n",
    "        loss = tf.keras.losses.SparseCategoricalCrossentropy(),\n",
    "        metrics = [tf.keras.metrics.SparseCategoricalAccuracy(), SpecificClassRecall(class_id = 3)])     "
   ]
  },
  {
   "cell_type": "code",
   "execution_count": 35,
   "metadata": {},
   "outputs": [],
   "source": [
    "whimsy_model = mnist_model()\n",
    "tf_dataset_type = tff.SequenceType(whimsy_model.input_spec)"
   ]
  },
  {
   "cell_type": "code",
   "execution_count": 36,
   "metadata": {},
   "outputs": [],
   "source": [
    "@tf.function\n",
    "def client_update(model, dataset, server_weights, client_optimizer):\n",
    "  \"\"\"Performs training (using the server model weights) on the client's dataset.\"\"\"\n",
    "  # Initialize the client model with the current server weights.\n",
    "  client_weights = model.trainable_variables\n",
    "  # Assign the server weights to the client model.\n",
    "  tf.nest.map_structure(lambda x, y: x.assign(y),\n",
    "                        client_weights, server_weights)\n",
    "\n",
    "\n",
    "  # Initialize a variable to accumulate the total loss.\n",
    "  total_loss = 0.0\n",
    "  \n",
    "  # Use the client_optimizer to update the local model.\n",
    "  for batch in dataset:\n",
    "    with tf.GradientTape() as tape:\n",
    "      # Compute a forward pass on the batch of data\n",
    "      outputs = model.forward_pass(batch)\n",
    "\n",
    "\n",
    "    # Add the current batch loss to the total loss.\n",
    "    total_loss += outputs.loss\n",
    "    \n",
    "    # Compute the corresponding gradient\n",
    "    grads = tape.gradient(outputs.loss, client_weights)\n",
    "    grads_and_vars = zip(grads, client_weights)\n",
    "\n",
    "    # Apply the gradient using a client optimizer.\n",
    "    client_optimizer.apply_gradients(grads_and_vars)\n",
    "    \n",
    "    \n",
    "\n",
    "  return tf.nest.map_structure(tf.identity, (client_weights, total_loss))"
   ]
  },
  {
   "cell_type": "code",
   "execution_count": 37,
   "metadata": {},
   "outputs": [],
   "source": [
    "@tf.function\n",
    "def server_update(model, mean_client_weights):\n",
    "  \"\"\"Updates the server model weights as the average of the client model weights.\"\"\"\n",
    "  model_weights = model.trainable_variables\n",
    "  # Assign the mean client weights to the server model.\n",
    "  tf.nest.map_structure(lambda x, y: x.assign(y),\n",
    "                        model_weights, mean_client_weights)\n",
    "  return model_weights"
   ]
  },
  {
   "cell_type": "code",
   "execution_count": 38,
   "metadata": {},
   "outputs": [],
   "source": [
    "@tff.tf_computation\n",
    "def server_init():\n",
    "  model = mnist_model()\n",
    "  return model.trainable_variables"
   ]
  },
  {
   "cell_type": "code",
   "execution_count": 39,
   "metadata": {},
   "outputs": [],
   "source": [
    "model_weights_type = server_init.type_signature.result"
   ]
  },
  {
   "cell_type": "code",
   "execution_count": 40,
   "metadata": {},
   "outputs": [],
   "source": [
    "@tff.federated_computation\n",
    "def initialize_fn():\n",
    "  return tff.federated_value(server_init(), tff.SERVER)"
   ]
  },
  {
   "cell_type": "code",
   "execution_count": 41,
   "metadata": {},
   "outputs": [],
   "source": [
    "@tff.tf_computation(tf_dataset_type, model_weights_type)\n",
    "def client_update_fn(tf_dataset, server_weights):\n",
    "  model = mnist_model()\n",
    "  client_optimizer = tf.keras.optimizers.SGD(learning_rate=client_learning_rate)\n",
    "  return client_update(model, tf_dataset, server_weights, client_optimizer)"
   ]
  },
  {
   "cell_type": "code",
   "execution_count": 42,
   "metadata": {},
   "outputs": [],
   "source": [
    "@tff.tf_computation(model_weights_type)\n",
    "def server_update_fn(mean_client_weights):\n",
    "  model = mnist_model()\n",
    "  return server_update(model, mean_client_weights)"
   ]
  },
  {
   "cell_type": "code",
   "execution_count": 43,
   "metadata": {},
   "outputs": [],
   "source": [
    "federated_server_type = tff.FederatedType(model_weights_type, tff.SERVER)\n",
    "federated_dataset_type = tff.FederatedType(tf_dataset_type, tff.CLIENTS)"
   ]
  },
  {
   "cell_type": "code",
   "execution_count": 45,
   "metadata": {},
   "outputs": [
    {
     "name": "stdout",
     "output_type": "stream",
     "text": [
      "federated_map(<(x -> x[1]),fc_next_fn_symbol_1>)\n"
     ]
    }
   ],
   "source": [
    "@tff.federated_computation(federated_server_type, federated_dataset_type)\n",
    "def next_fn(server_weights, federated_dataset):\n",
    "  # Broadcast the server weights to the clients.\n",
    "  server_weights_at_client = tff.federated_broadcast(server_weights)\n",
    "\n",
    " # Each client computes their updated weights and loss.\n",
    "  client_weights_and_losses = tff.federated_map(\n",
    "      client_update_fn, (federated_dataset, server_weights_at_client))\n",
    "\n",
    "\n",
    "\n",
    "  # Split the weights and losses\n",
    "  # client_weights = [x[0] for x in client_weights_and_losses]\n",
    "  # client_losses = [x[1] for x in client_weights_and_losses]\n",
    "\n",
    "  client_weights = client_weights_and_losses[0]\n",
    "  client_losses = client_weights_and_losses[1]\n",
    "  print(client_losses)\n",
    "\n",
    "  # The server averages these updates.\n",
    "  mean_client_weights = tff.federated_mean(client_weights)\n",
    "\n",
    "  # The server updates its model.\n",
    "  server_weights = tff.federated_map(server_update_fn, mean_client_weights)\n",
    "\n",
    "  return server_weights"
   ]
  },
  {
   "cell_type": "code",
   "execution_count": 20,
   "metadata": {},
   "outputs": [],
   "source": [
    "federated_algorithm = tff.templates.IterativeProcess(\n",
    "    initialize_fn=initialize_fn,\n",
    "    next_fn=next_fn\n",
    ")"
   ]
  },
  {
   "cell_type": "code",
   "execution_count": 21,
   "metadata": {},
   "outputs": [],
   "source": [
    "emnist_train, emnist_test = tff.simulation.datasets.emnist.load_data()\n",
    "\n",
    "clients = random.sample(emnist_train.client_ids, 100)\n",
    "\n",
    "federated_train_data = make_federated_data(emnist_train, clients, 0, 0, train=True)      \n"
   ]
  },
  {
   "cell_type": "code",
   "execution_count": 22,
   "metadata": {},
   "outputs": [],
   "source": [
    "central_emnist_test = emnist_test.create_tf_dataset_from_all_clients()\n",
    "central_emnist_test = preprocess(central_emnist_test, train=False)"
   ]
  },
  {
   "cell_type": "code",
   "execution_count": 23,
   "metadata": {},
   "outputs": [],
   "source": [
    "def evaluate(server_state):\n",
    "  keras_model = create_model()\n",
    "  keras_model.compile(\n",
    "    loss=tf.keras.losses.SparseCategoricalCrossentropy(),\n",
    "    metrics=[tf.keras.metrics.SparseCategoricalAccuracy()]  \n",
    "  )\n",
    "  keras_model.set_weights(server_state)\n",
    "  keras_model.evaluate(central_emnist_test.map(lambda element: (element['x'], element['y'])))\n"
   ]
  },
  {
   "cell_type": "code",
   "execution_count": 24,
   "metadata": {},
   "outputs": [
    {
     "name": "stdout",
     "output_type": "stream",
     "text": [
      "6125/6125 [==============================] - 9s 1ms/step - loss: 2.3219 - sparse_categorical_accuracy: 0.0923\n"
     ]
    }
   ],
   "source": [
    "server_state = federated_algorithm.initialize()\n",
    "evaluate(server_state)"
   ]
  },
  {
   "cell_type": "code",
   "execution_count": 25,
   "metadata": {},
   "outputs": [
    {
     "name": "stderr",
     "output_type": "stream",
     "text": [
      "  5%|▌         | 1/20 [00:13<04:09, 13.12s/it]\n"
     ]
    },
    {
     "ename": "KeyboardInterrupt",
     "evalue": "",
     "output_type": "error",
     "traceback": [
      "\u001b[0;31m---------------------------------------------------------------------------\u001b[0m",
      "\u001b[0;31mKeyboardInterrupt\u001b[0m                         Traceback (most recent call last)",
      "\u001b[0;32m/tmp/ipykernel_3695982/2765301958.py\u001b[0m in \u001b[0;36m<module>\u001b[0;34m\u001b[0m\n\u001b[1;32m      1\u001b[0m \u001b[0;32mfor\u001b[0m \u001b[0mepoch\u001b[0m \u001b[0;32min\u001b[0m \u001b[0mtqdm\u001b[0m\u001b[0;34m(\u001b[0m\u001b[0mrange\u001b[0m\u001b[0;34m(\u001b[0m\u001b[0mn_train_epochs\u001b[0m\u001b[0;34m)\u001b[0m\u001b[0;34m,\u001b[0m \u001b[0mposition\u001b[0m \u001b[0;34m=\u001b[0m \u001b[0;36m0\u001b[0m\u001b[0;34m,\u001b[0m \u001b[0mleave\u001b[0m \u001b[0;34m=\u001b[0m \u001b[0;32mTrue\u001b[0m\u001b[0;34m)\u001b[0m\u001b[0;34m:\u001b[0m\u001b[0;34m\u001b[0m\u001b[0;34m\u001b[0m\u001b[0m\n\u001b[0;32m----> 2\u001b[0;31m     \u001b[0mserver_state\u001b[0m \u001b[0;34m=\u001b[0m \u001b[0mfederated_algorithm\u001b[0m\u001b[0;34m.\u001b[0m\u001b[0mnext\u001b[0m\u001b[0;34m(\u001b[0m\u001b[0mserver_state\u001b[0m\u001b[0;34m,\u001b[0m \u001b[0mfederated_train_data\u001b[0m\u001b[0;34m)\u001b[0m\u001b[0;34m\u001b[0m\u001b[0;34m\u001b[0m\u001b[0m\n\u001b[0m",
      "\u001b[0;32m~/.local/lib/python3.10/site-packages/tensorflow_federated/python/core/impl/computation/computation_impl.py\u001b[0m in \u001b[0;36m__call__\u001b[0;34m(self, *args, **kwargs)\u001b[0m\n\u001b[1;32m    137\u001b[0m   \u001b[0;32mdef\u001b[0m \u001b[0m__call__\u001b[0m\u001b[0;34m(\u001b[0m\u001b[0mself\u001b[0m\u001b[0;34m,\u001b[0m \u001b[0;34m*\u001b[0m\u001b[0margs\u001b[0m\u001b[0;34m,\u001b[0m \u001b[0;34m**\u001b[0m\u001b[0mkwargs\u001b[0m\u001b[0;34m)\u001b[0m\u001b[0;34m:\u001b[0m\u001b[0;34m\u001b[0m\u001b[0;34m\u001b[0m\u001b[0m\n\u001b[1;32m    138\u001b[0m     \u001b[0marg\u001b[0m \u001b[0;34m=\u001b[0m \u001b[0mfunction_utils\u001b[0m\u001b[0;34m.\u001b[0m\u001b[0mpack_args\u001b[0m\u001b[0;34m(\u001b[0m\u001b[0mself\u001b[0m\u001b[0;34m.\u001b[0m\u001b[0m_type_signature\u001b[0m\u001b[0;34m.\u001b[0m\u001b[0mparameter\u001b[0m\u001b[0;34m,\u001b[0m \u001b[0margs\u001b[0m\u001b[0;34m,\u001b[0m \u001b[0mkwargs\u001b[0m\u001b[0;34m)\u001b[0m\u001b[0;34m\u001b[0m\u001b[0;34m\u001b[0m\u001b[0m\n\u001b[0;32m--> 139\u001b[0;31m     \u001b[0;32mreturn\u001b[0m \u001b[0mself\u001b[0m\u001b[0;34m.\u001b[0m\u001b[0m_context_stack\u001b[0m\u001b[0;34m.\u001b[0m\u001b[0mcurrent\u001b[0m\u001b[0;34m.\u001b[0m\u001b[0minvoke\u001b[0m\u001b[0;34m(\u001b[0m\u001b[0mself\u001b[0m\u001b[0;34m,\u001b[0m \u001b[0marg\u001b[0m\u001b[0;34m)\u001b[0m\u001b[0;34m\u001b[0m\u001b[0;34m\u001b[0m\u001b[0m\n\u001b[0m\u001b[1;32m    140\u001b[0m \u001b[0;34m\u001b[0m\u001b[0m\n\u001b[1;32m    141\u001b[0m   \u001b[0;32mdef\u001b[0m \u001b[0m__hash__\u001b[0m\u001b[0;34m(\u001b[0m\u001b[0mself\u001b[0m\u001b[0;34m)\u001b[0m \u001b[0;34m->\u001b[0m \u001b[0mint\u001b[0m\u001b[0;34m:\u001b[0m\u001b[0;34m\u001b[0m\u001b[0;34m\u001b[0m\u001b[0m\n",
      "\u001b[0;32m~/.local/lib/python3.10/site-packages/tensorflow_federated/python/core/impl/execution_contexts/sync_execution_context.py\u001b[0m in \u001b[0;36minvoke\u001b[0;34m(self, comp, arg)\u001b[0m\n\u001b[1;32m     63\u001b[0m \u001b[0;34m\u001b[0m\u001b[0m\n\u001b[1;32m     64\u001b[0m   \u001b[0;32mdef\u001b[0m \u001b[0minvoke\u001b[0m\u001b[0;34m(\u001b[0m\u001b[0mself\u001b[0m\u001b[0;34m,\u001b[0m \u001b[0mcomp\u001b[0m\u001b[0;34m,\u001b[0m \u001b[0marg\u001b[0m\u001b[0;34m)\u001b[0m\u001b[0;34m:\u001b[0m\u001b[0;34m\u001b[0m\u001b[0;34m\u001b[0m\u001b[0m\n\u001b[0;32m---> 65\u001b[0;31m     return self._async_runner.run_coro_and_return_result(\n\u001b[0m\u001b[1;32m     66\u001b[0m         \u001b[0mself\u001b[0m\u001b[0;34m.\u001b[0m\u001b[0m_async_context\u001b[0m\u001b[0;34m.\u001b[0m\u001b[0minvoke\u001b[0m\u001b[0;34m(\u001b[0m\u001b[0mcomp\u001b[0m\u001b[0;34m,\u001b[0m \u001b[0marg\u001b[0m\u001b[0;34m)\u001b[0m\u001b[0;34m\u001b[0m\u001b[0;34m\u001b[0m\u001b[0m\n\u001b[1;32m     67\u001b[0m     )\n",
      "\u001b[0;32m~/.local/lib/python3.10/site-packages/tensorflow_federated/python/common_libs/async_utils.py\u001b[0m in \u001b[0;36mrun_coro_and_return_result\u001b[0;34m(self, coro)\u001b[0m\n\u001b[1;32m    222\u001b[0m     \u001b[0;34m\"\"\"Runs coroutine in the managed event loop, returning the result.\"\"\"\u001b[0m\u001b[0;34m\u001b[0m\u001b[0;34m\u001b[0m\u001b[0m\n\u001b[1;32m    223\u001b[0m     \u001b[0mfuture\u001b[0m \u001b[0;34m=\u001b[0m \u001b[0masyncio\u001b[0m\u001b[0;34m.\u001b[0m\u001b[0mrun_coroutine_threadsafe\u001b[0m\u001b[0;34m(\u001b[0m\u001b[0mcoro\u001b[0m\u001b[0;34m,\u001b[0m \u001b[0mself\u001b[0m\u001b[0;34m.\u001b[0m\u001b[0m_event_loop\u001b[0m\u001b[0;34m)\u001b[0m\u001b[0;34m\u001b[0m\u001b[0;34m\u001b[0m\u001b[0m\n\u001b[0;32m--> 224\u001b[0;31m     \u001b[0;32mreturn\u001b[0m \u001b[0mfuture\u001b[0m\u001b[0;34m.\u001b[0m\u001b[0mresult\u001b[0m\u001b[0;34m(\u001b[0m\u001b[0;34m)\u001b[0m\u001b[0;34m\u001b[0m\u001b[0;34m\u001b[0m\u001b[0m\n\u001b[0m\u001b[1;32m    225\u001b[0m \u001b[0;34m\u001b[0m\u001b[0m\n\u001b[1;32m    226\u001b[0m   \u001b[0;32masync\u001b[0m \u001b[0;32mdef\u001b[0m \u001b[0mawait_coro_and_return_result\u001b[0m\u001b[0;34m(\u001b[0m\u001b[0mself\u001b[0m\u001b[0;34m,\u001b[0m \u001b[0mcoro\u001b[0m\u001b[0;34m)\u001b[0m\u001b[0;34m:\u001b[0m\u001b[0;34m\u001b[0m\u001b[0;34m\u001b[0m\u001b[0m\n",
      "\u001b[0;32m/usr/lib/python3.10/concurrent/futures/_base.py\u001b[0m in \u001b[0;36mresult\u001b[0;34m(self, timeout)\u001b[0m\n\u001b[1;32m    451\u001b[0m                     \u001b[0;32mreturn\u001b[0m \u001b[0mself\u001b[0m\u001b[0;34m.\u001b[0m\u001b[0m__get_result\u001b[0m\u001b[0;34m(\u001b[0m\u001b[0;34m)\u001b[0m\u001b[0;34m\u001b[0m\u001b[0;34m\u001b[0m\u001b[0m\n\u001b[1;32m    452\u001b[0m \u001b[0;34m\u001b[0m\u001b[0m\n\u001b[0;32m--> 453\u001b[0;31m                 \u001b[0mself\u001b[0m\u001b[0;34m.\u001b[0m\u001b[0m_condition\u001b[0m\u001b[0;34m.\u001b[0m\u001b[0mwait\u001b[0m\u001b[0;34m(\u001b[0m\u001b[0mtimeout\u001b[0m\u001b[0;34m)\u001b[0m\u001b[0;34m\u001b[0m\u001b[0;34m\u001b[0m\u001b[0m\n\u001b[0m\u001b[1;32m    454\u001b[0m \u001b[0;34m\u001b[0m\u001b[0m\n\u001b[1;32m    455\u001b[0m                 \u001b[0;32mif\u001b[0m \u001b[0mself\u001b[0m\u001b[0;34m.\u001b[0m\u001b[0m_state\u001b[0m \u001b[0;32min\u001b[0m \u001b[0;34m[\u001b[0m\u001b[0mCANCELLED\u001b[0m\u001b[0;34m,\u001b[0m \u001b[0mCANCELLED_AND_NOTIFIED\u001b[0m\u001b[0;34m]\u001b[0m\u001b[0;34m:\u001b[0m\u001b[0;34m\u001b[0m\u001b[0;34m\u001b[0m\u001b[0m\n",
      "\u001b[0;32m/usr/lib/python3.10/threading.py\u001b[0m in \u001b[0;36mwait\u001b[0;34m(self, timeout)\u001b[0m\n\u001b[1;32m    318\u001b[0m         \u001b[0;32mtry\u001b[0m\u001b[0;34m:\u001b[0m    \u001b[0;31m# restore state no matter what (e.g., KeyboardInterrupt)\u001b[0m\u001b[0;34m\u001b[0m\u001b[0;34m\u001b[0m\u001b[0m\n\u001b[1;32m    319\u001b[0m             \u001b[0;32mif\u001b[0m \u001b[0mtimeout\u001b[0m \u001b[0;32mis\u001b[0m \u001b[0;32mNone\u001b[0m\u001b[0;34m:\u001b[0m\u001b[0;34m\u001b[0m\u001b[0;34m\u001b[0m\u001b[0m\n\u001b[0;32m--> 320\u001b[0;31m                 \u001b[0mwaiter\u001b[0m\u001b[0;34m.\u001b[0m\u001b[0macquire\u001b[0m\u001b[0;34m(\u001b[0m\u001b[0;34m)\u001b[0m\u001b[0;34m\u001b[0m\u001b[0;34m\u001b[0m\u001b[0m\n\u001b[0m\u001b[1;32m    321\u001b[0m                 \u001b[0mgotit\u001b[0m \u001b[0;34m=\u001b[0m \u001b[0;32mTrue\u001b[0m\u001b[0;34m\u001b[0m\u001b[0;34m\u001b[0m\u001b[0m\n\u001b[1;32m    322\u001b[0m             \u001b[0;32melse\u001b[0m\u001b[0;34m:\u001b[0m\u001b[0;34m\u001b[0m\u001b[0;34m\u001b[0m\u001b[0m\n",
      "\u001b[0;31mKeyboardInterrupt\u001b[0m: "
     ]
    }
   ],
   "source": [
    "for epoch in tqdm(range(n_train_epochs), position = 0, leave = True):\n",
    "    server_state = federated_algorithm.next(server_state, federated_train_data)\n"
   ]
  },
  {
   "cell_type": "code",
   "execution_count": 28,
   "metadata": {},
   "outputs": [
    {
     "name": "stdout",
     "output_type": "stream",
     "text": [
      "6125/6125 [==============================] - 8s 1ms/step - loss: 0.6931 - sparse_categorical_accuracy: 0.8142\n"
     ]
    }
   ],
   "source": [
    "evaluate(server_state)"
   ]
  },
  {
   "cell_type": "code",
   "execution_count": null,
   "metadata": {},
   "outputs": [],
   "source": [
    "# # load the datasets that are going to be used\n",
    "# emnist_train, emnist_test = tff.simulation.datasets.emnist.load_data()\n",
    "\n",
    "# # lists to hold the metrics that we want to compute\n",
    "# accs = []\n",
    "# losses = []\n",
    "# class_recall = []\n",
    "\n",
    "# example_dataset = emnist_train.create_tf_dataset_for_client(\n",
    "#     emnist_train.client_ids[0])\n",
    "\n",
    "# preprocessed_example_dataset = preprocess(example_dataset, True)\n",
    " \n",
    "     \n",
    "# # build the process to have the model's architecture\n",
    "# # evaluation_process = tff.learning.algorithms.build_fed_eval(mnist_model)\n",
    "\n",
    "# # initialize the state of the evaluation\n",
    "# sample_test_clients = emnist_test.client_ids[0:n_test_clients]\n",
    "\n",
    "# federated_test_data = make_federated_data(emnist_test, sample_test_clients, 0, 0, train=False)\n",
    "\n",
    "# # fix the random clients so that they are the same for every model\n",
    "# clients = []\n",
    "\n",
    "# for i in range(n_train_epochs):\n",
    "#     clients.append(random.sample(emnist_train.client_ids, n_clients))"
   ]
  }
 ],
 "metadata": {
  "kernelspec": {
   "display_name": "Python 3",
   "language": "python",
   "name": "python3"
  },
  "language_info": {
   "codemirror_mode": {
    "name": "ipython",
    "version": 3
   },
   "file_extension": ".py",
   "mimetype": "text/x-python",
   "name": "python",
   "nbconvert_exporter": "python",
   "pygments_lexer": "ipython3",
   "version": "3.10.6"
  },
  "orig_nbformat": 4
 },
 "nbformat": 4,
 "nbformat_minor": 2
}
