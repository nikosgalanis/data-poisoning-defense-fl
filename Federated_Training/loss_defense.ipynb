{
 "cells": [
  {
   "attachments": {},
   "cell_type": "markdown",
   "metadata": {},
   "source": [
    "# Defense Idea implementation"
   ]
  },
  {
   "cell_type": "code",
   "execution_count": 1,
   "metadata": {},
   "outputs": [],
   "source": [
    "import os\n",
    "os.environ['TF_CPP_MIN_LOG_LEVEL'] = '3'\n",
    "\n",
    "import numpy as np\n",
    "import tensorflow as tf\n",
    "import tensorflow_federated as tff\n",
    "from matplotlib import pyplot as plt\n",
    "\n",
    "import collections\n",
    "from tqdm import tqdm\n",
    "import random"
   ]
  },
  {
   "cell_type": "code",
   "execution_count": 2,
   "metadata": {},
   "outputs": [],
   "source": [
    "n_clients = 100\n",
    "n_test_clients = 300\n",
    "\n",
    "n_train_dataset_epochs = 6\n",
    "n_test_dataset_epochs = 3\n",
    "batch_size_train = 20\n",
    "batch_size_test = 20\n",
    "shuffle_buffer = 100\n",
    "prefetch_buffer = 10\n",
    "\n",
    "n_train_epochs = 20\n",
    "\n",
    "client_learning_rate = 0.02\n",
    "server_learning_rate = 1\n",
    "\n",
    "\n",
    "hidden_units = 256\n",
    "dropout = 0.1\n",
    "\n",
    "mal_users_percentage = 0.2\n",
    "# todo: could also be a list of values\n",
    "target_value = 3\n",
    "poisoned_value = 8\n",
    "\n",
    "open('/home/nikos/msc-thesis/tmp/losses', 'w').close()"
   ]
  },
  {
   "cell_type": "code",
   "execution_count": 3,
   "metadata": {},
   "outputs": [],
   "source": [
    "def batch_format(element):\n",
    "    # flatten the images\n",
    "    return collections.OrderedDict(\n",
    "        x = tf.reshape(element['pixels'], [-1, 28, 28]),\n",
    "        y = tf.reshape(element['label'], [-1, 1]))\n",
    "\n",
    "def preprocess(dataset, train):\n",
    "    if train == True:\n",
    "        dataset = dataset.repeat(n_train_dataset_epochs)\n",
    "    else:\n",
    "        dataset = dataset.repeat(n_test_dataset_epochs)\n",
    "        \n",
    "    dataset = dataset.shuffle(shuffle_buffer, seed = 1)\n",
    "    if train == True:\n",
    "        dataset = dataset.batch(batch_size_train)\n",
    "    else: \n",
    "        dataset = dataset.batch(batch_size_test)\n",
    "        \n",
    "    dataset = dataset.map(batch_format)\n",
    "    dataset = dataset.prefetch(prefetch_buffer)\n",
    "\n",
    "    return dataset"
   ]
  },
  {
   "cell_type": "code",
   "execution_count": 4,
   "metadata": {},
   "outputs": [],
   "source": [
    "emnist_train, emnist_test = tff.simulation.datasets.emnist.load_data()\n",
    "\n",
    "example_dataset = emnist_train.create_tf_dataset_for_client(\n",
    "    emnist_train.client_ids[0])\n",
    "\n",
    "preprocessed_example_dataset = preprocess(example_dataset, True)"
   ]
  },
  {
   "cell_type": "code",
   "execution_count": 5,
   "metadata": {},
   "outputs": [],
   "source": [
    "def poison_dataset(dataset, target_honest, target_mal):\n",
    "    def map_fn(element):\n",
    "        labels = element['y']\n",
    "        # condition where label equals to target_honest\n",
    "        condition = tf.equal(labels, target_honest)\n",
    "        # replace label with target_mal where condition is true\n",
    "        labels = tf.where(condition, target_mal, labels)\n",
    "        # replace 'y' in the element dict\n",
    "        element['y'] = labels\n",
    "        return element\n",
    "    # apply the map function to the dataset\n",
    "    poisoned_dataset = dataset.map(map_fn)\n",
    "    return poisoned_dataset"
   ]
  },
  {
   "cell_type": "code",
   "execution_count": 6,
   "metadata": {},
   "outputs": [],
   "source": [
    "def make_federated_data(client_data, client_ids, target_value, poisoned_value, train, mal_users_percentage=0):\n",
    "    fed_data = []\n",
    "    \n",
    "    # Iterate over each client\n",
    "    for id in client_ids:\n",
    "        # Preprocess the client's data\n",
    "        preprocessed_dataset = preprocess(client_data.create_tf_dataset_for_client(id), train)\n",
    "        \n",
    "        # Generate a random number. If the number is less than 'mal_users_percentage', this client's data will be poisoned.\n",
    "        prob = random.random()\n",
    "        \n",
    "        # Check if this client's data should be poisoned\n",
    "        if prob < mal_users_percentage:\n",
    "            # Poison the data by changing the labels of the target class\n",
    "            preprocessed_dataset = poison_dataset(preprocessed_dataset, target_value, poisoned_value)\n",
    "        \n",
    "        # Add the (possibly poisoned) client data to the federated data\n",
    "        fed_data.append(preprocessed_dataset)\n",
    "    \n",
    "    return fed_data"
   ]
  },
  {
   "cell_type": "code",
   "execution_count": 7,
   "metadata": {},
   "outputs": [],
   "source": [
    "class SpecificClassRecall(tf.keras.metrics.Metric):\n",
    "    def __init__(self, class_id, name='specific_class_recall', **kwargs):\n",
    "        super(SpecificClassRecall, self).__init__(name=name, **kwargs)\n",
    "        self.class_id = class_id\n",
    "        self.recall = tf.keras.metrics.Recall()\n",
    "\n",
    "    def update_state(self, y_true, y_pred, sample_weight=None):\n",
    "        class_id_true = tf.equal(y_true, self.class_id)\n",
    "        class_id_pred = tf.equal(tf.argmax(y_pred, axis=1), self.class_id)\n",
    "        self.recall.update_state(class_id_true, class_id_pred, sample_weight)\n",
    "\n",
    "    def result(self):\n",
    "        return self.recall.result()\n",
    "\n",
    "    def reset_states(self):\n",
    "        self.recall.reset_states()\n",
    "    \n",
    "    def get_config(self):\n",
    "        config = super(SpecificClassRecall, self).get_config()\n",
    "        config.update({\"class_id\": self.class_id})\n",
    "        return config"
   ]
  },
  {
   "cell_type": "code",
   "execution_count": 8,
   "metadata": {},
   "outputs": [],
   "source": [
    "def create_model():\n",
    "      return tf.keras.models.Sequential([\n",
    "      tf.keras.layers.Reshape(input_shape=(28,28,1), target_shape=(28,28,1)),\n",
    "      tf.keras.layers.Conv2D(filters=32, kernel_size=(3,3), activation='relu'),\n",
    "      tf.keras.layers.MaxPooling2D(pool_size=(2,2)),\n",
    "      tf.keras.layers.Flatten(),\n",
    "      tf.keras.layers.Dropout(dropout),\n",
    "      tf.keras.layers.Dense(10, activation='softmax')\n",
    "  ])"
   ]
  },
  {
   "cell_type": "code",
   "execution_count": 9,
   "metadata": {},
   "outputs": [],
   "source": [
    "def mnist_model():\n",
    "    keras_model = create_model()\n",
    "    return tff.learning.models.from_keras_model(\n",
    "        keras_model,\n",
    "        input_spec = preprocessed_example_dataset.element_spec,\n",
    "        loss = tf.keras.losses.SparseCategoricalCrossentropy(),\n",
    "        metrics = [tf.keras.metrics.SparseCategoricalAccuracy(), SpecificClassRecall(class_id = 3)])     "
   ]
  },
  {
   "cell_type": "code",
   "execution_count": 10,
   "metadata": {},
   "outputs": [],
   "source": [
    "whimsy_model = mnist_model()\n",
    "tf_dataset_type = tff.SequenceType(whimsy_model.input_spec)"
   ]
  },
  {
   "cell_type": "code",
   "execution_count": 11,
   "metadata": {},
   "outputs": [],
   "source": [
    "def append_loss(total_loss):\n",
    "    clients_loss.append(total_loss.numpy().item())\n",
    "    return total_loss"
   ]
  },
  {
   "cell_type": "code",
   "execution_count": 12,
   "metadata": {},
   "outputs": [],
   "source": [
    "@tf.function\n",
    "def client_fake_update(model, dataset, server_weights, client_optimizer):\n",
    "  \"\"\"Performs training (using the server model weights) on the client's dataset.\"\"\"\n",
    "  # Initialize the client model with the current server weights.\n",
    "  client_weights = model.trainable_variables\n",
    "  # Assign the server weights to the client model.\n",
    "  tf.nest.map_structure(lambda x, y: x.assign(y),\n",
    "                        client_weights, server_weights)\n",
    "\n",
    "\n",
    "  # Initialize a variable to accumulate the total loss.\n",
    "  total_loss = 0.0\n",
    "  \n",
    "  # Use the client_optimizer to update the local model.\n",
    "  for batch in dataset:\n",
    "    with tf.GradientTape() as tape:\n",
    "      # Compute a forward pass on the batch of data\n",
    "      outputs = model.forward_pass(batch)\n",
    "\n",
    "    # Add the current batch loss to the total loss.\n",
    "    total_loss += outputs.loss\n",
    "    \n",
    "    # Compute the corresponding gradient\n",
    "    grads = tape.gradient(outputs.loss, client_weights)\n",
    "    grads_and_vars = zip(grads, client_weights)\n",
    "\n",
    "    # Apply the gradient using a client optimizer.\n",
    "    client_optimizer.apply_gradients(grads_and_vars)\n",
    "    \n",
    "    \n",
    "  # total_loss = tf.py_function(func=append_loss, inp=[total_loss], Tout=tf.float32)\n",
    "  # total_loss.set_shape(())\n",
    "\n",
    "  # clients_loss.append(total_loss.numpy().item())\n",
    "  # clients_loss.append(tf.print(total_loss))\n",
    "  tf.print(total_loss, output_stream = \"file:///home/nikos/msc-thesis/tmp/losses\")\n",
    "  return tf.nest.map_structure(tf.identity, (client_weights, total_loss))"
   ]
  },
  {
   "cell_type": "code",
   "execution_count": 13,
   "metadata": {},
   "outputs": [],
   "source": [
    "@tf.function\n",
    "def client_update(model, dataset, server_weights, client_optimizer, threshold):\n",
    "  \"\"\"Performs training (using the server model weights) on the client's dataset.\"\"\"\n",
    "  # Initialize the client model with the current server weights.\n",
    "  client_weights = model.trainable_variables\n",
    "  default_client_weights = model.trainable_variables\n",
    "  # Assign the server weights to the client model.\n",
    "  tf.nest.map_structure(lambda x, y: x.assign(y),\n",
    "                        client_weights, server_weights)\n",
    "\n",
    "\n",
    "  # Initialize a variable to accumulate the total loss.\n",
    "  total_loss = 0.0\n",
    "  \n",
    "  # Use the client_optimizer to update the local model.\n",
    "  for batch in dataset:\n",
    "    with tf.GradientTape() as tape:\n",
    "      # Compute a forward pass on the batch of data\n",
    "      outputs = model.forward_pass(batch)\n",
    "\n",
    "\n",
    "    # Add the current batch loss to the total loss.\n",
    "    total_loss += outputs.loss\n",
    "    \n",
    "    # Compute the corresponding gradient\n",
    "    grads = tape.gradient(outputs.loss, client_weights)\n",
    "    grads_and_vars = zip(grads, client_weights)\n",
    "\n",
    "    # Apply the gradient using a client optimizer.\n",
    "    client_optimizer.apply_gradients(grads_and_vars)\n",
    "    \n",
    "  if total_loss > tff.federated_value(threshold, tff.SERVER):\n",
    "    client_weights = default_client_weights\n",
    "\n",
    "  # total_loss = tf.py_function(func=append_loss, inp=[total_loss], Tout=tf.float32)\n",
    "  # total_loss.set_shape(())\n",
    "\n",
    "\n",
    "  return tf.nest.map_structure(tf.identity, (client_weights, total_loss))"
   ]
  },
  {
   "cell_type": "code",
   "execution_count": 14,
   "metadata": {},
   "outputs": [],
   "source": [
    "@tf.function\n",
    "def server_update(model, mean_client_weights):\n",
    "  \"\"\"Updates the server model weights as the average of the client model weights.\"\"\"\n",
    "  model_weights = model.trainable_variables\n",
    "  # Assign the mean client weights to the server model.\n",
    "  tf.nest.map_structure(lambda x, y: x.assign(y),\n",
    "                        model_weights, mean_client_weights)\n",
    "  return model_weights"
   ]
  },
  {
   "cell_type": "code",
   "execution_count": 15,
   "metadata": {},
   "outputs": [],
   "source": [
    "@tff.tf_computation\n",
    "def server_init():\n",
    "  model = mnist_model()\n",
    "  return model.trainable_variables"
   ]
  },
  {
   "cell_type": "code",
   "execution_count": 16,
   "metadata": {},
   "outputs": [],
   "source": [
    "model_weights_type = server_init.type_signature.result"
   ]
  },
  {
   "cell_type": "code",
   "execution_count": 17,
   "metadata": {},
   "outputs": [],
   "source": [
    "@tff.federated_computation\n",
    "def initialize_fn():\n",
    "  return tff.federated_value(server_init(), tff.SERVER)"
   ]
  },
  {
   "cell_type": "code",
   "execution_count": 18,
   "metadata": {},
   "outputs": [],
   "source": [
    "@tff.tf_computation(tf_dataset_type, model_weights_type)\n",
    "def client_fake_update_fn(tf_dataset, server_weights):\n",
    "  model = mnist_model()\n",
    "  client_optimizer = tf.keras.optimizers.SGD(learning_rate=client_learning_rate)\n",
    "  return client_fake_update(model, tf_dataset, server_weights, client_optimizer)"
   ]
  },
  {
   "cell_type": "code",
   "execution_count": 19,
   "metadata": {},
   "outputs": [],
   "source": [
    "# @tff.tf_computation(tf_dataset_type, model_weights_type, tff.SequenceType(tf.float32))\n",
    "@tff.tf_computation()\n",
    "def client_update_fn(tf_dataset, server_weights, threshold):\n",
    "  model = mnist_model()\n",
    "  client_optimizer = tf.keras.optimizers.SGD(learning_rate=client_learning_rate)\n",
    "  return client_update(model, tf_dataset, server_weights, client_optimizer, threshold)"
   ]
  },
  {
   "cell_type": "code",
   "execution_count": 20,
   "metadata": {},
   "outputs": [],
   "source": [
    "@tff.tf_computation(model_weights_type)\n",
    "def server_update_fn(mean_client_weights):\n",
    "  model = mnist_model()\n",
    "  return server_update(model, mean_client_weights)"
   ]
  },
  {
   "cell_type": "code",
   "execution_count": 21,
   "metadata": {},
   "outputs": [],
   "source": [
    "federated_server_type = tff.FederatedType(model_weights_type, tff.SERVER)\n",
    "federated_dataset_type = tff.FederatedType(tf_dataset_type, tff.CLIENTS)"
   ]
  },
  {
   "cell_type": "code",
   "execution_count": 22,
   "metadata": {},
   "outputs": [],
   "source": [
    "@tff.tf_computation\n",
    "def dp_fn(x):\n",
    "    # TODO: apply ldp\n",
    "  return tf.square(x)"
   ]
  },
  {
   "cell_type": "code",
   "execution_count": 23,
   "metadata": {},
   "outputs": [],
   "source": [
    "def read_last_n_lines(file_path, n):\n",
    "    with open(file_path, 'r') as file:\n",
    "        lines = file.readlines()\n",
    "\n",
    "    lines = [line.strip() for line in lines[-n:]]\n",
    "    return lines"
   ]
  },
  {
   "cell_type": "code",
   "execution_count": 24,
   "metadata": {},
   "outputs": [],
   "source": [
    "@tff.tf_computation(tf.float32)\n",
    "def threshold_fn(threshold):\n",
    "    return threshold"
   ]
  },
  {
   "cell_type": "code",
   "execution_count": 25,
   "metadata": {},
   "outputs": [
    {
     "ename": "AttributeError",
     "evalue": "module 'tensorflow_federated' has no attribute 'cast'",
     "output_type": "error",
     "traceback": [
      "\u001b[0;31m---------------------------------------------------------------------------\u001b[0m",
      "\u001b[0;31mAttributeError\u001b[0m                            Traceback (most recent call last)",
      "\u001b[0;32m/tmp/ipykernel_8292/1959868870.py\u001b[0m in \u001b[0;36m<module>\u001b[0;34m\u001b[0m\n\u001b[1;32m      1\u001b[0m \u001b[0;34m@\u001b[0m\u001b[0mtff\u001b[0m\u001b[0;34m.\u001b[0m\u001b[0mfederated_computation\u001b[0m\u001b[0;34m(\u001b[0m\u001b[0mfederated_server_type\u001b[0m\u001b[0;34m,\u001b[0m \u001b[0mfederated_dataset_type\u001b[0m\u001b[0;34m)\u001b[0m\u001b[0;34m\u001b[0m\u001b[0;34m\u001b[0m\u001b[0m\n\u001b[0;32m----> 2\u001b[0;31m \u001b[0;32mdef\u001b[0m \u001b[0mnext_fn\u001b[0m\u001b[0;34m(\u001b[0m\u001b[0mserver_weights\u001b[0m\u001b[0;34m,\u001b[0m \u001b[0mfederated_dataset\u001b[0m\u001b[0;34m)\u001b[0m\u001b[0;34m:\u001b[0m\u001b[0;34m\u001b[0m\u001b[0;34m\u001b[0m\u001b[0m\n\u001b[0m\u001b[1;32m      3\u001b[0m   \u001b[0;31m# Broadcast the server weights to the clients.\u001b[0m\u001b[0;34m\u001b[0m\u001b[0;34m\u001b[0m\u001b[0m\n\u001b[1;32m      4\u001b[0m   \u001b[0mserver_weights_at_client\u001b[0m \u001b[0;34m=\u001b[0m \u001b[0mtff\u001b[0m\u001b[0;34m.\u001b[0m\u001b[0mfederated_broadcast\u001b[0m\u001b[0;34m(\u001b[0m\u001b[0mserver_weights\u001b[0m\u001b[0;34m)\u001b[0m\u001b[0;34m\u001b[0m\u001b[0;34m\u001b[0m\u001b[0m\n\u001b[1;32m      5\u001b[0m \u001b[0;34m\u001b[0m\u001b[0m\n",
      "\u001b[0;32m~/.local/lib/python3.10/site-packages/tensorflow_federated/python/core/impl/computation/computation_wrapper.py\u001b[0m in \u001b[0;36m__call__\u001b[0;34m(self, tff_internal_types, *args, **kwargs)\u001b[0m\n\u001b[1;32m    525\u001b[0m       \u001b[0;31m# Either we have a concrete parameter type, or this is no-arg function.\u001b[0m\u001b[0;34m\u001b[0m\u001b[0;34m\u001b[0m\u001b[0m\n\u001b[1;32m    526\u001b[0m       \u001b[0mparameter_type\u001b[0m \u001b[0;34m=\u001b[0m \u001b[0m_parameter_type\u001b[0m\u001b[0;34m(\u001b[0m\u001b[0mparameters\u001b[0m\u001b[0;34m,\u001b[0m \u001b[0mparameter_types\u001b[0m\u001b[0;34m)\u001b[0m\u001b[0;34m\u001b[0m\u001b[0;34m\u001b[0m\u001b[0m\n\u001b[0;32m--> 527\u001b[0;31m       wrapped_func = self._strategy(\n\u001b[0m\u001b[1;32m    528\u001b[0m           \u001b[0mfn_to_wrap\u001b[0m\u001b[0;34m,\u001b[0m\u001b[0;34m\u001b[0m\u001b[0;34m\u001b[0m\u001b[0m\n\u001b[1;32m    529\u001b[0m           \u001b[0mfn_name\u001b[0m\u001b[0;34m,\u001b[0m\u001b[0;34m\u001b[0m\u001b[0;34m\u001b[0m\u001b[0m\n",
      "\u001b[0;32m~/.local/lib/python3.10/site-packages/tensorflow_federated/python/core/impl/computation/computation_wrapper.py\u001b[0m in \u001b[0;36m__call__\u001b[0;34m(self, fn_to_wrap, fn_name, parameter_type, unpack, **kwargs)\u001b[0m\n\u001b[1;32m    244\u001b[0m     \u001b[0;32mtry\u001b[0m\u001b[0;34m:\u001b[0m\u001b[0;34m\u001b[0m\u001b[0;34m\u001b[0m\u001b[0m\n\u001b[1;32m    245\u001b[0m       \u001b[0margs\u001b[0m\u001b[0;34m,\u001b[0m \u001b[0mkwargs\u001b[0m \u001b[0;34m=\u001b[0m \u001b[0munpack_arguments_fn\u001b[0m\u001b[0;34m(\u001b[0m\u001b[0mpacked_args\u001b[0m\u001b[0;34m)\u001b[0m\u001b[0;34m\u001b[0m\u001b[0;34m\u001b[0m\u001b[0m\n\u001b[0;32m--> 246\u001b[0;31m       \u001b[0mresult\u001b[0m \u001b[0;34m=\u001b[0m \u001b[0mfn_to_wrap\u001b[0m\u001b[0;34m(\u001b[0m\u001b[0;34m*\u001b[0m\u001b[0margs\u001b[0m\u001b[0;34m,\u001b[0m \u001b[0;34m**\u001b[0m\u001b[0mkwargs\u001b[0m\u001b[0;34m)\u001b[0m\u001b[0;34m\u001b[0m\u001b[0;34m\u001b[0m\u001b[0m\n\u001b[0m\u001b[1;32m    247\u001b[0m       \u001b[0;32mif\u001b[0m \u001b[0mresult\u001b[0m \u001b[0;32mis\u001b[0m \u001b[0;32mNone\u001b[0m\u001b[0;34m:\u001b[0m\u001b[0;34m\u001b[0m\u001b[0;34m\u001b[0m\u001b[0m\n\u001b[1;32m    248\u001b[0m         \u001b[0;32mraise\u001b[0m \u001b[0mComputationReturnedNoneError\u001b[0m\u001b[0;34m(\u001b[0m\u001b[0mfn_to_wrap\u001b[0m\u001b[0;34m)\u001b[0m\u001b[0;34m\u001b[0m\u001b[0;34m\u001b[0m\u001b[0m\n",
      "\u001b[0;32m/tmp/ipykernel_8292/1959868870.py\u001b[0m in \u001b[0;36mnext_fn\u001b[0;34m(server_weights, federated_dataset)\u001b[0m\n\u001b[1;32m      5\u001b[0m \u001b[0;34m\u001b[0m\u001b[0m\n\u001b[1;32m      6\u001b[0m \u001b[0;34m\u001b[0m\u001b[0m\n\u001b[0;32m----> 7\u001b[0;31m   \u001b[0mthreshold\u001b[0m \u001b[0;34m=\u001b[0m \u001b[0mtff\u001b[0m\u001b[0;34m.\u001b[0m\u001b[0mcast\u001b[0m\u001b[0;34m(\u001b[0m\u001b[0;36m0.0\u001b[0m\u001b[0;34m,\u001b[0m \u001b[0mdtype\u001b[0m\u001b[0;34m=\u001b[0m\u001b[0mtf\u001b[0m\u001b[0;34m.\u001b[0m\u001b[0mfloat32\u001b[0m\u001b[0;34m)\u001b[0m\u001b[0;34m\u001b[0m\u001b[0;34m\u001b[0m\u001b[0m\n\u001b[0m\u001b[1;32m      8\u001b[0m   \u001b[0;31m# threshold = 0.0\u001b[0m\u001b[0;34m\u001b[0m\u001b[0;34m\u001b[0m\u001b[0m\n\u001b[1;32m      9\u001b[0m   \u001b[0mthreshold_res\u001b[0m \u001b[0;34m=\u001b[0m \u001b[0mtff\u001b[0m\u001b[0;34m.\u001b[0m\u001b[0mfederated_map\u001b[0m\u001b[0;34m(\u001b[0m\u001b[0mthreshold_fn\u001b[0m\u001b[0;34m,\u001b[0m \u001b[0mthreshold\u001b[0m\u001b[0;34m)\u001b[0m\u001b[0;34m\u001b[0m\u001b[0;34m\u001b[0m\u001b[0m\n",
      "\u001b[0;31mAttributeError\u001b[0m: module 'tensorflow_federated' has no attribute 'cast'"
     ]
    }
   ],
   "source": [
    "@tff.federated_computation(federated_server_type, federated_dataset_type)\n",
    "def next_fn(server_weights, federated_dataset):\n",
    "  # Broadcast the server weights to the clients.\n",
    "  server_weights_at_client = tff.federated_broadcast(server_weights)\n",
    "\n",
    "\n",
    "  # threshold = tff.cast(0.0, dtype=tf.float32)\n",
    "  threshold = 0.0\n",
    "  threshold_res = tff.federated_map(threshold_fn, threshold)\n",
    "  threshold_at_client = tff.federated_broadcast(threshold_res)\n",
    "  \n",
    " # Each client computes their updated weights and loss.\n",
    "  client_weights_and_losses = tff.federated_map(\n",
    "      client_fake_update_fn, (federated_dataset, server_weights_at_client, threshold_at_client))\n",
    "\n",
    "\n",
    "  losses = read_last_n_lines(\"/home/nikos/msc-thesis/tmp/losses\", n_clients)\n",
    "  \n",
    "  print(losses[0:10])\n",
    "  # Split the weights and losses\n",
    "  client_weights = client_weights_and_losses[0]\n",
    "  client_losses = client_weights_and_losses[1]\n",
    "  print(client_losses)\n",
    "  \n",
    "  \n",
    "#   # Get the indices of the n clients with the highest losses\n",
    "#   top_n_losses_indices = tf.argsort(client_losses)[-5:]\n",
    "\n",
    "#   # Replace the weights of the top n losses with the previous round's mean weights\n",
    "#   for i in top_n_losses_indices:\n",
    "#       client_weights[i] = server_weights\n",
    "\n",
    "  # for loss in dp_losses:\n",
    "  #   tf.print(loss)\n",
    "  \n",
    "  # TODO: algorithm for eliminating clients based on loss \n",
    "  \n",
    "  # print(client_losses)\n",
    "\n",
    "  # The server averages these updates.\n",
    "  mean_client_weights = tff.federated_mean(client_weights)\n",
    "  mean_loss = tff.federated_mean(client_losses)\n",
    "  # The server updates its model.\n",
    "  server_weights = tff.federated_map(server_update_fn, mean_client_weights)\n",
    "\n",
    "  return server_weights"
   ]
  },
  {
   "cell_type": "code",
   "execution_count": null,
   "metadata": {},
   "outputs": [],
   "source": [
    "federated_algorithm = tff.templates.IterativeProcess(\n",
    "    initialize_fn=initialize_fn,\n",
    "    next_fn=next_fn\n",
    ")"
   ]
  },
  {
   "cell_type": "code",
   "execution_count": null,
   "metadata": {},
   "outputs": [],
   "source": [
    "emnist_train, emnist_test = tff.simulation.datasets.emnist.load_data()\n",
    "\n",
    "clients = random.sample(emnist_train.client_ids, 100)\n",
    "\n",
    "federated_train_data = make_federated_data(emnist_train, clients, 0, 0, train=True)      \n"
   ]
  },
  {
   "cell_type": "code",
   "execution_count": null,
   "metadata": {},
   "outputs": [],
   "source": [
    "central_emnist_test = emnist_test.create_tf_dataset_from_all_clients()\n",
    "central_emnist_test = preprocess(central_emnist_test, train=False)"
   ]
  },
  {
   "cell_type": "code",
   "execution_count": null,
   "metadata": {},
   "outputs": [],
   "source": [
    "def evaluate(server_state):\n",
    "  keras_model = create_model()\n",
    "  keras_model.compile(\n",
    "    loss=tf.keras.losses.SparseCategoricalCrossentropy(),\n",
    "    metrics=[tf.keras.metrics.SparseCategoricalAccuracy()]  \n",
    "  )\n",
    "  keras_model.set_weights(server_state)\n",
    "  keras_model.evaluate(central_emnist_test.map(lambda element: (element['x'], element['y'])))\n"
   ]
  },
  {
   "cell_type": "code",
   "execution_count": null,
   "metadata": {},
   "outputs": [],
   "source": [
    "server_state = federated_algorithm.initialize()\n",
    "evaluate(server_state)"
   ]
  },
  {
   "cell_type": "code",
   "execution_count": null,
   "metadata": {},
   "outputs": [],
   "source": [
    "for epoch in tqdm(range(n_train_epochs), position = 0, leave = True):\n",
    "    server_state = federated_algorithm.next(server_state, federated_train_data)    \n",
    "    \n"
   ]
  },
  {
   "cell_type": "code",
   "execution_count": null,
   "metadata": {},
   "outputs": [],
   "source": [
    "evaluate(server_state)"
   ]
  },
  {
   "cell_type": "code",
   "execution_count": null,
   "metadata": {},
   "outputs": [],
   "source": [
    "print(clients_loss)"
   ]
  },
  {
   "cell_type": "code",
   "execution_count": null,
   "metadata": {},
   "outputs": [],
   "source": [
    "# # load the datasets that are going to be used\n",
    "# emnist_train, emnist_test = tff.simulation.datasets.emnist.load_data()\n",
    "\n",
    "# # lists to hold the metrics that we want to compute\n",
    "# accs = []\n",
    "# losses = []\n",
    "# class_recall = []\n",
    "\n",
    "# example_dataset = emnist_train.create_tf_dataset_for_client(\n",
    "#     emnist_train.client_ids[0])\n",
    "\n",
    "# preprocessed_example_dataset = preprocess(example_dataset, True)\n",
    " \n",
    "     \n",
    "# # build the process to have the model's architecture\n",
    "# # evaluation_process = tff.learning.algorithms.build_fed_eval(mnist_model)\n",
    "\n",
    "# # initialize the state of the evaluation\n",
    "# sample_test_clients = emnist_test.client_ids[0:n_test_clients]\n",
    "\n",
    "# federated_test_data = make_federated_data(emnist_test, sample_test_clients, 0, 0, train=False)\n",
    "\n",
    "# # fix the random clients so that they are the same for every model\n",
    "# clients = []\n",
    "\n",
    "# for i in range(n_train_epochs):\n",
    "#     clients.append(random.sample(emnist_train.client_ids, n_clients))"
   ]
  }
 ],
 "metadata": {
  "kernelspec": {
   "display_name": "Python 3",
   "language": "python",
   "name": "python3"
  },
  "language_info": {
   "codemirror_mode": {
    "name": "ipython",
    "version": 3
   },
   "file_extension": ".py",
   "mimetype": "text/x-python",
   "name": "python",
   "nbconvert_exporter": "python",
   "pygments_lexer": "ipython3",
   "version": "3.10.6"
  },
  "orig_nbformat": 4
 },
 "nbformat": 4,
 "nbformat_minor": 2
}
