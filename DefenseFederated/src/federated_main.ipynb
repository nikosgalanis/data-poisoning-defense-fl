{
 "cells": [
  {
   "cell_type": "code",
   "execution_count": 1,
   "metadata": {},
   "outputs": [],
   "source": [
    "import copy\n",
    "import numpy as np\n",
    "from tqdm import tqdm\n",
    "\n",
    "import torch\n",
    "\n",
    "from update import LocalUpdate, test_inference\n",
    "from models import CNNMnist, CNNCifar\n",
    "from utils import *\n",
    "\n",
    "import warnings\n",
    "warnings.filterwarnings(\"ignore\")\n",
    "\n",
    "import matplotlib.pyplot as plt"
   ]
  },
  {
   "cell_type": "code",
   "execution_count": 2,
   "metadata": {},
   "outputs": [
    {
     "name": "stdout",
     "output_type": "stream",
     "text": [
      "NVIDIA GeForce GTX 1080 Ti\n"
     ]
    }
   ],
   "source": [
    "n_train_epochs = 100\n",
    "n_train_clients = 50\n",
    "n_total_clients = 500\n",
    "\n",
    "\n",
    "mal_usr_percentage = 0\n",
    "target_hon = 4\n",
    "target_mal = 6\n",
    "\n",
    "# dataset = 'mnist'\n",
    "dataset = 'cifar'\n",
    "client_lr = 0.005\n",
    "client_epochs = 10\n",
    "device = torch.device(\"cuda:0\" if torch.cuda.is_available() else \"cpu\")\n",
    "print(torch.cuda.get_device_name(0))\n",
    "# torch.cuda.set_device('cuda:0')\n",
    "# print(torch.cuda.set_device('cuda'))\n",
    "# print(torch.cuda.set_device(0))\n",
    "# device = 'cuda'"
   ]
  },
  {
   "cell_type": "code",
   "execution_count": 3,
   "metadata": {},
   "outputs": [
    {
     "name": "stdout",
     "output_type": "stream",
     "text": [
      "Files already downloaded and verified\n",
      "Files already downloaded and verified\n"
     ]
    }
   ],
   "source": [
    "# load dataset and user groups\n",
    "train_dataset, test_dataset, user_groups, attackers = get_dataset(mal_usr_percentage / 100, target_hon, target_mal, n_total_clients, dataset)\n",
    "\n",
    "# Training\n",
    "clients = []\n",
    "for i in range(n_train_epochs):\n",
    "    # clients.append(np.random.choice(range(n_total_clients), n_train_clients, replace=False))\n",
    "    clients.append(range(n_total_clients)[:n_train_clients])\n",
    "\n",
    "train_loss_total = []\n",
    "train_accuracy_total = []\n",
    "train_recall_total = []\n",
    "\n",
    "test_loss_total = []\n",
    "test_accuracy_total = []\n",
    "test_recall_total = []\n",
    "\n",
    "attacker_detection_ratio = []\n",
    "\n",
    "if dataset == 'mnist':\n",
    "    global_model = CNNMnist()\n",
    "elif dataset == 'cifar':\n",
    "    global_model = CNNCifar()\n",
    "\n",
    "# Saving:\n",
    "torch.save({\n",
    "    'model': global_model,\n",
    "}, 'cifar.pth')\n",
    "\n"
   ]
  },
  {
   "cell_type": "code",
   "execution_count": 4,
   "metadata": {},
   "outputs": [],
   "source": [
    "attack = [0, 1]\n",
    "recalls = []\n",
    "\n",
    "mal = [0, 10, 20, 30, 40]"
   ]
  },
  {
   "cell_type": "code",
   "execution_count": 5,
   "metadata": {},
   "outputs": [
    {
     "name": "stdout",
     "output_type": "stream",
     "text": [
      "Files already downloaded and verified\n",
      "Files already downloaded and verified\n"
     ]
    },
    {
     "name": "stderr",
     "output_type": "stream",
     "text": [
      "  1%|          | 1/100 [00:18<30:40, 18.59s/it]"
     ]
    },
    {
     "name": "stdout",
     "output_type": "stream",
     "text": [
      "0.11333333333333337\n"
     ]
    },
    {
     "name": "stderr",
     "output_type": "stream",
     "text": [
      "  2%|▏         | 2/100 [00:34<27:20, 16.74s/it]"
     ]
    },
    {
     "name": "stdout",
     "output_type": "stream",
     "text": [
      "0.09733333333333338\n"
     ]
    },
    {
     "name": "stderr",
     "output_type": "stream",
     "text": [
      "  3%|▎         | 3/100 [00:50<26:49, 16.59s/it]"
     ]
    },
    {
     "name": "stdout",
     "output_type": "stream",
     "text": [
      "0.1066666666666667\n"
     ]
    },
    {
     "name": "stderr",
     "output_type": "stream",
     "text": [
      "  4%|▍         | 4/100 [01:06<26:30, 16.57s/it]"
     ]
    },
    {
     "name": "stdout",
     "output_type": "stream",
     "text": [
      "0.16266666666666674\n"
     ]
    },
    {
     "name": "stderr",
     "output_type": "stream",
     "text": [
      "  5%|▌         | 5/100 [01:25<27:17, 17.24s/it]"
     ]
    },
    {
     "name": "stdout",
     "output_type": "stream",
     "text": [
      "0.17866666666666664\n"
     ]
    },
    {
     "name": "stderr",
     "output_type": "stream",
     "text": [
      "  6%|▌         | 6/100 [01:46<29:18, 18.71s/it]"
     ]
    },
    {
     "name": "stdout",
     "output_type": "stream",
     "text": [
      "0.19333333333333325\n"
     ]
    },
    {
     "name": "stderr",
     "output_type": "stream",
     "text": [
      "  7%|▋         | 7/100 [02:10<31:17, 20.19s/it]"
     ]
    },
    {
     "name": "stdout",
     "output_type": "stream",
     "text": [
      "0.16400000000000003\n"
     ]
    },
    {
     "name": "stderr",
     "output_type": "stream",
     "text": [
      "  8%|▊         | 8/100 [02:27<29:41, 19.36s/it]"
     ]
    },
    {
     "name": "stdout",
     "output_type": "stream",
     "text": [
      "0.1920000000000001\n"
     ]
    },
    {
     "name": "stderr",
     "output_type": "stream",
     "text": [
      "  9%|▉         | 9/100 [02:47<29:28, 19.43s/it]"
     ]
    },
    {
     "name": "stdout",
     "output_type": "stream",
     "text": [
      "0.2306666666666667\n"
     ]
    },
    {
     "name": "stderr",
     "output_type": "stream",
     "text": [
      " 10%|█         | 10/100 [03:06<29:08, 19.43s/it]"
     ]
    },
    {
     "name": "stdout",
     "output_type": "stream",
     "text": [
      "0.16800000000000007\n"
     ]
    },
    {
     "name": "stderr",
     "output_type": "stream",
     "text": [
      " 11%|█         | 11/100 [03:26<28:43, 19.37s/it]"
     ]
    },
    {
     "name": "stdout",
     "output_type": "stream",
     "text": [
      "0.1946666666666668\n"
     ]
    },
    {
     "name": "stderr",
     "output_type": "stream",
     "text": [
      " 12%|█▏        | 12/100 [03:45<28:17, 19.29s/it]"
     ]
    },
    {
     "name": "stdout",
     "output_type": "stream",
     "text": [
      "0.1613333333333334\n"
     ]
    },
    {
     "name": "stderr",
     "output_type": "stream",
     "text": [
      " 13%|█▎        | 13/100 [04:04<27:48, 19.18s/it]"
     ]
    },
    {
     "name": "stdout",
     "output_type": "stream",
     "text": [
      "0.17200000000000004\n"
     ]
    },
    {
     "name": "stderr",
     "output_type": "stream",
     "text": [
      " 14%|█▍        | 14/100 [04:23<27:44, 19.36s/it]"
     ]
    },
    {
     "name": "stdout",
     "output_type": "stream",
     "text": [
      "0.1720000000000001\n"
     ]
    },
    {
     "name": "stderr",
     "output_type": "stream",
     "text": [
      " 15%|█▌        | 15/100 [04:46<28:47, 20.32s/it]"
     ]
    },
    {
     "name": "stdout",
     "output_type": "stream",
     "text": [
      "0.17333333333333342\n"
     ]
    },
    {
     "name": "stderr",
     "output_type": "stream",
     "text": [
      " 16%|█▌        | 16/100 [05:08<29:15, 20.89s/it]"
     ]
    },
    {
     "name": "stdout",
     "output_type": "stream",
     "text": [
      "0.20800000000000007\n"
     ]
    }
   ],
   "source": [
    "mal_usr_percentage = 0\n",
    "\n",
    "checkpoint = torch.load('cifar.pth')\n",
    "global_model = checkpoint['model']\n",
    "global_model.load_state_dict(global_model.state_dict())\n",
    "\n",
    "train_accuracy = []\n",
    "train_recall = []\n",
    "\n",
    "# load dataset and user groups\n",
    "train_dataset, test_dataset, user_groups, attackers = get_dataset(mal_usr_percentage / 100, target_hon, target_mal, n_total_clients, dataset)\n",
    "\n",
    "# Training\n",
    "clients = []\n",
    "for i in range(n_train_epochs):\n",
    "    # clients.append(np.random.choice(range(n_total_clients), n_train_clients, replace=False))\n",
    "    clients.append(np.random.choice(range(n_total_clients), n_train_clients, replace=False))\n",
    "    \n",
    "\n",
    "# Send the model to the device and then set it to train mode\n",
    "global_model.to(device)\n",
    "global_model.train() \n",
    "\n",
    "# hold the initial global weights\n",
    "global_weights = global_model.state_dict()\n",
    "# just attacks\n",
    "for epoch in tqdm(range(n_train_epochs)):\n",
    "\n",
    "    selected_users = clients[epoch]\n",
    "        \n",
    "    local_weights, local_losses = [], []\n",
    "    \n",
    "    for user in selected_users:\n",
    "        local_model = LocalUpdate(dataset=train_dataset, clients=user_groups[user])\n",
    "\n",
    "        w, loss = local_model.update_weights(\n",
    "            model=copy.deepcopy(global_model), local_epochs=client_epochs, learning_rate=client_lr)\n",
    "        \n",
    "        local_weights.append(copy.deepcopy(w))\n",
    "        local_losses.append(copy.deepcopy(loss))\n",
    "    \n",
    "    loss_avg = sum(local_losses) / len(selected_users)\n",
    "    \n",
    "    train_loss_total.append(loss_avg)\n",
    "    \n",
    "    # update global weights\n",
    "    global_weights = average_weights(local_weights)\n",
    "\n",
    "    # update global weights\n",
    "    global_model.load_state_dict(global_weights)\n",
    "\n",
    "    # Calculate avg training accuracy over all users at every epoch\n",
    "    train_acc = 0\n",
    "    train_rec = 0\n",
    "    # evaluation mode of the model\n",
    "    global_model.eval()\n",
    "\n",
    "    for client in selected_users:\n",
    "        local_model = LocalUpdate(dataset = train_dataset, clients = user_groups[client])\n",
    "        \n",
    "        acc, loss, rec = local_model.inference(model = global_model)\n",
    "        train_acc += acc\n",
    "        train_rec += rec\n",
    "        \n",
    "    train_acc /= len(selected_users)\n",
    "    train_rec /= len(selected_users)\n",
    "    print(train_acc)\n",
    "    train_accuracy.append(train_acc)\n",
    "    train_recall.append(train_rec)"
   ]
  },
  {
   "cell_type": "code",
   "execution_count": null,
   "metadata": {},
   "outputs": [
    {
     "data": {
      "image/png": "[encoded data removed]",
      "text/plain": [
       "<Figure size 640x480 with 1 Axes>"
      ]
     },
     "metadata": {},
     "output_type": "display_data"
    }
   ],
   "source": [
    "plt.plot(range(n_train_epochs), train_accuracy, label = str(0) + \"% of mal users\")\n",
    "\n",
    "\n",
    "plt.xlabel(\"Epochs\")\n",
    "plt.ylabel(\"Model Accuracy\")\n",
    "# plt.ylim(0, 1)\n",
    "\n",
    "plt.legend()\n",
    "plt.show()"
   ]
  },
  {
   "cell_type": "code",
   "execution_count": null,
   "metadata": {},
   "outputs": [
    {
     "data": {
      "image/png": "[encoded data removed]",
      "text/plain": [
       "<Figure size 640x480 with 1 Axes>"
      ]
     },
     "metadata": {},
     "output_type": "display_data"
    }
   ],
   "source": [
    "plt.plot(range(n_train_epochs), train_recall, label = str(0) + \"% of mal users\")\n",
    "\n",
    "\n",
    "plt.xlabel(\"Epochs\")\n",
    "plt.ylabel(\"Model Accuracy\")\n",
    "plt.legend()\n",
    "plt.show()"
   ]
  },
  {
   "cell_type": "code",
   "execution_count": null,
   "metadata": {},
   "outputs": [
    {
     "name": "stdout",
     "output_type": "stream",
     "text": [
      "(0.5423, 1.448503777950625, 0.381999618000382)\n"
     ]
    }
   ],
   "source": [
    "# test_acc, test_ls, test_rec = test_inference(global_model, test_dataset)\n",
    "print(test_inference(global_model, test_dataset))"
   ]
  },
  {
   "cell_type": "code",
   "execution_count": 5,
   "metadata": {},
   "outputs": [
    {
     "name": "stdout",
     "output_type": "stream",
     "text": [
      "Files already downloaded and verified\n"
     ]
    },
    {
     "name": "stdout",
     "output_type": "stream",
     "text": [
      "Files already downloaded and verified\n",
      "Running experiment with 0% malicious clients\n"
     ]
    },
    {
     "name": "stderr",
     "output_type": "stream",
     "text": [
      "100%|██████████| 100/100 [44:33<00:00, 26.74s/it]\n"
     ]
    },
    {
     "name": "stdout",
     "output_type": "stream",
     "text": [
      "Files already downloaded and verified\n",
      "Files already downloaded and verified\n",
      "Running experiment with 10% malicious clients\n"
     ]
    },
    {
     "name": "stderr",
     "output_type": "stream",
     "text": [
      "100%|██████████| 100/100 [45:21<00:00, 27.21s/it]\n"
     ]
    },
    {
     "name": "stdout",
     "output_type": "stream",
     "text": [
      "Files already downloaded and verified\n",
      "Files already downloaded and verified\n",
      "Running experiment with 20% malicious clients\n"
     ]
    },
    {
     "name": "stderr",
     "output_type": "stream",
     "text": [
      "100%|██████████| 100/100 [44:41<00:00, 26.81s/it]\n"
     ]
    },
    {
     "name": "stdout",
     "output_type": "stream",
     "text": [
      "Files already downloaded and verified\n",
      "Files already downloaded and verified\n",
      "Running experiment with 30% malicious clients\n"
     ]
    },
    {
     "name": "stderr",
     "output_type": "stream",
     "text": [
      "100%|██████████| 100/100 [44:40<00:00, 26.80s/it]\n"
     ]
    },
    {
     "name": "stdout",
     "output_type": "stream",
     "text": [
      "Files already downloaded and verified\n",
      "Files already downloaded and verified\n",
      "Running experiment with 40% malicious clients\n"
     ]
    },
    {
     "name": "stderr",
     "output_type": "stream",
     "text": [
      "100%|██████████| 100/100 [42:33<00:00, 25.54s/it]\n"
     ]
    },
    {
     "name": "stdout",
     "output_type": "stream",
     "text": [
      "Files already downloaded and verified\n",
      "Files already downloaded and verified\n",
      "Running experiment with 0% malicious clients\n"
     ]
    },
    {
     "name": "stderr",
     "output_type": "stream",
     "text": [
      "100%|██████████| 100/100 [1:13:24<00:00, 44.04s/it]\n"
     ]
    },
    {
     "name": "stdout",
     "output_type": "stream",
     "text": [
      "Files already downloaded and verified\n",
      "Files already downloaded and verified\n",
      "Running experiment with 10% malicious clients\n"
     ]
    },
    {
     "name": "stderr",
     "output_type": "stream",
     "text": [
      "100%|██████████| 100/100 [1:13:47<00:00, 44.28s/it]\n"
     ]
    },
    {
     "name": "stdout",
     "output_type": "stream",
     "text": [
      "Files already downloaded and verified\n",
      "Files already downloaded and verified\n",
      "Running experiment with 20% malicious clients\n"
     ]
    },
    {
     "name": "stderr",
     "output_type": "stream",
     "text": [
      "100%|██████████| 100/100 [1:19:17<00:00, 47.58s/it]\n"
     ]
    },
    {
     "name": "stdout",
     "output_type": "stream",
     "text": [
      "Files already downloaded and verified\n",
      "Files already downloaded and verified\n",
      "Running experiment with 30% malicious clients\n"
     ]
    },
    {
     "name": "stderr",
     "output_type": "stream",
     "text": [
      "100%|██████████| 100/100 [1:20:27<00:00, 48.27s/it]\n"
     ]
    },
    {
     "name": "stdout",
     "output_type": "stream",
     "text": [
      "Files already downloaded and verified\n",
      "Files already downloaded and verified\n",
      "Running experiment with 40% malicious clients\n"
     ]
    },
    {
     "name": "stderr",
     "output_type": "stream",
     "text": [
      " 19%|█▉        | 19/100 [14:45<1:06:12, 49.05s/it]"
     ]
    }
   ],
   "source": [
    "for att in attack:\n",
    "    last_epoch_recall = []\n",
    "\n",
    "    for mal_usr_percentage in mal:\n",
    "        \n",
    "        train_dataset, _, user_groups, attackers = get_dataset(mal_usr_percentage / 100, target_hon, target_mal, n_total_clients, dataset)\n",
    "\n",
    "        checkpoint = torch.load('cifar.pth')\n",
    "        global_model = checkpoint['model']\n",
    "        global_model.load_state_dict(global_model.state_dict())\n",
    "\n",
    "        attack_ratio = 0\n",
    "        \n",
    "        print(\"Running experiment with \" + str(mal_usr_percentage) + \"% malicious clients\")\n",
    "\n",
    "        # Send the model to the device and then set it to train mode\n",
    "        global_model.to(device)\n",
    "        global_model.train()\n",
    "    \n",
    "        # hold the initial global weights\n",
    "        global_weights = global_model.state_dict()\n",
    "        \n",
    "        train_loss , train_accuracy, train_recall = [], [], []\n",
    "        test_loss , test_accuracy, test_recall = [], [], []\n",
    "\n",
    "\n",
    "        for epoch in tqdm(range(n_train_epochs)):\n",
    "            if att == 1:\n",
    "                local_weights_fake, local_losses_fake = [], []\n",
    "                \n",
    "                global_model.train()\n",
    "            \n",
    "                selected_users = clients[epoch]\n",
    "\n",
    "                for user in selected_users:\n",
    "                    local_model = LocalUpdate(dataset=train_dataset, clients=user_groups[user])\n",
    "\n",
    "                    w, loss = local_model.update_weights(\n",
    "                        model=copy.deepcopy(global_model), local_epochs=client_epochs, learning_rate=client_lr, fake=True)\n",
    "                    \n",
    "                    local_weights_fake.append(copy.deepcopy(w))\n",
    "                    local_losses_fake.append(copy.deepcopy(loss))\n",
    "\n",
    "                \n",
    "                local_losses_fake = apply_ldp(local_losses_fake, epsilon=1.0, sensitivity=0.0001)\n",
    "                \n",
    "                info = (local_losses_fake, local_weights_fake, selected_users)\n",
    "                \n",
    "                selected_users, attackers_found = eliminate_largest_diff(info, n_train_clients)\n",
    "                            \n",
    "                count = sum(1 for item in attackers_found if item in attackers)\n",
    "                \n",
    "                if mal_usr_percentage > 0:\n",
    "                    attack_ratio += (count / ((mal_usr_percentage / 100) * n_train_clients))\n",
    "                            \n",
    "            elif att == 0:\n",
    "                selected_users = clients[epoch]\n",
    "                \n",
    "            local_weights, local_losses = [], []\n",
    "            \n",
    "            for user in selected_users:\n",
    "                local_model = LocalUpdate(dataset=train_dataset, clients=user_groups[user])\n",
    "\n",
    "                w, loss = local_model.update_weights(\n",
    "                    model=copy.deepcopy(global_model), local_epochs=client_epochs, learning_rate=client_lr)\n",
    "                \n",
    "                local_weights.append(copy.deepcopy(w))\n",
    "                local_losses.append(copy.deepcopy(loss))\n",
    "            \n",
    "            loss_avg = sum(local_losses) / len(selected_users)\n",
    "            \n",
    "            train_loss_total.append(loss_avg)\n",
    "            \n",
    "            # update global weights\n",
    "            global_weights = average_weights(local_weights)\n",
    "            # update global weights\n",
    "            global_model.load_state_dict(global_weights)\n",
    "\n",
    "            # Calculate avg training accuracy over all users at every epoch\n",
    "            train_acc = 0\n",
    "            train_rec = 0\n",
    "            # evaluation mode of the model\n",
    "            global_model.eval()\n",
    "\n",
    "            for client in selected_users:\n",
    "                local_model = LocalUpdate(dataset = train_dataset, clients = user_groups[client])\n",
    "                \n",
    "                acc, loss, rec = local_model.inference(model = global_model)\n",
    "                train_acc += acc\n",
    "                train_rec += rec\n",
    "                \n",
    "            train_acc /= len(selected_users)\n",
    "            train_rec /= len(selected_users)\n",
    "            \n",
    "            train_accuracy.append(train_acc)\n",
    "            train_recall.append(train_rec)\n",
    "\n",
    "            # Test inference after each epoch\n",
    "            test_acc, test_ls, test_rec = test_inference(global_model, test_dataset)\n",
    "\n",
    "            test_accuracy.append(test_acc)\n",
    "            test_loss.append(test_ls)\n",
    "            test_recall.append(test_rec)\n",
    "            \n",
    "        \n",
    "        last_epoch_recall.append(test_recall[-1])\n",
    "        \n",
    "        if att == 1:\n",
    "            attack_ratio /= n_train_epochs\n",
    "            if attack_ratio > 1:\n",
    "                attack_ratio = 1\n",
    "            attacker_detection_ratio.append(attack_ratio)\n",
    "            train_accuracy_total.append(train_accuracy)\n",
    "            train_loss_total.append(train_loss)\n",
    "            train_recall_total.append(train_recall)\n",
    "\n",
    "            test_accuracy_total.append(test_accuracy)\n",
    "            test_loss_total.append(test_loss)\n",
    "            test_recall_total.append(test_recall)\n",
    "\n",
    "    recalls.append(last_epoch_recall)\n"
   ]
  },
  {
   "cell_type": "code",
   "execution_count": 9,
   "metadata": {},
   "outputs": [
    {
     "name": "stdout",
     "output_type": "stream",
     "text": [
      "[[0.227999772000228, 0.240999759000241, 0.243999756000244, 0.238999761000239, 0.260999739000261]]\n"
     ]
    }
   ],
   "source": [
    "print(recalls)"
   ]
  },
  {
   "cell_type": "code",
   "execution_count": null,
   "metadata": {},
   "outputs": [
    {
     "name": "stderr",
     "output_type": "stream",
     "text": [
      "No artists with labels found to put in legend.  Note that artists whose label start with an underscore are ignored when legend() is called with no argument.\n"
     ]
    },
    {
     "data": {
      "image/png": "[encoded data removed]",
      "text/plain": [
       "<Figure size 640x480 with 1 Axes>"
      ]
     },
     "metadata": {},
     "output_type": "display_data"
    }
   ],
   "source": [
    "#plot for only attacking\n",
    "plt.figure()\n",
    "epochs = [x for x in range(0, n_train_epochs)]\n",
    "for cnt, model_acc in enumerate(test_accuracy_total):\n",
    "\n",
    "    plt.plot(epochs, model_acc, label = str(mal[cnt]) + \"% of mal users\")\n",
    "plt.xlabel(\"Epochs\")\n",
    "plt.ylabel(\"Sparse Categorical Accuracy\")\n",
    "plt.legend()\n",
    "plt.show()"
   ]
  },
  {
   "cell_type": "code",
   "execution_count": null,
   "metadata": {},
   "outputs": [],
   "source": [
    "import matplotlib\n",
    "import matplotlib.pyplot as plt\n",
    "matplotlib.use('Agg')\n",
    "\n",
    "\n",
    "epochs = [x for x in range(0, n_train_epochs)]\n",
    "for cnt, model_rec in enumerate(test_recall_total):\n",
    "\n",
    "    plt.plot(epochs, model_rec, label = str(mal[cnt]) + \"% of mal users\")\n",
    "\n",
    "\n",
    "plt.xlabel(\"Epochs\")\n",
    "plt.ylabel(\"Source Class Recall\")\n",
    "plt.legend()\n",
    "plt.savefig('save/rec_many_largest_diff.png')"
   ]
  },
  {
   "cell_type": "code",
   "execution_count": null,
   "metadata": {},
   "outputs": [],
   "source": [
    "plt.figure()\n",
    "epochs = [x for x in range(0, n_train_epochs)]\n",
    "for cnt, model_loss in enumerate(test_loss_total):\n",
    "\n",
    "    plt.plot(epochs, model_loss, label = str(mal[cnt]) + \"% of mal users\")\n",
    "\n",
    "\n",
    "plt.xlabel(\"Epochs\")\n",
    "plt.ylabel(\"CrossEntropy Loss\")\n",
    "plt.legend()\n",
    "plt.savefig('save/loss_many_largest_diff.png')"
   ]
  },
  {
   "cell_type": "code",
   "execution_count": null,
   "metadata": {},
   "outputs": [],
   "source": [
    "plt.figure()\n",
    "epochs = [x for x in range(0, n_train_epochs)]\n",
    "for cnt, model_acc in enumerate(test_accuracy_total):\n",
    "\n",
    "    plt.plot(epochs, model_acc, label = str(mal[cnt]) + \"% of mal users\")\n",
    "\n",
    "\n",
    "plt.xlabel(\"Epochs\")\n",
    "plt.ylabel(\"Sparse Categorical Accuracy\")\n",
    "plt.legend()\n",
    "plt.savefig('save/accs_many_largest_diff.png')"
   ]
  },
  {
   "cell_type": "code",
   "execution_count": null,
   "metadata": {},
   "outputs": [],
   "source": [
    "plt.figure()\n",
    "\n",
    "plt.plot(mal[1:], attacker_detection_ratio[1:], 'o',  label = \"Attackers detection ratio\", linestyle = \"-\", linewidth = .4)\n",
    "plt.xlabel(\"Malicious users %\")\n",
    "plt.ylabel(\"Percentage of attackers detected\")\n",
    "plt.legend()\n",
    "plt.savefig('save/attackers_largest_diff.png')"
   ]
  },
  {
   "cell_type": "code",
   "execution_count": null,
   "metadata": {},
   "outputs": [
    {
     "ename": "IndexError",
     "evalue": "list index out of range",
     "output_type": "error",
     "traceback": [
      "\u001b[0;31m---------------------------------------------------------------------------\u001b[0m",
      "\u001b[0;31mIndexError\u001b[0m                                Traceback (most recent call last)",
      "Cell \u001b[0;32mIn[8], line 8\u001b[0m\n\u001b[1;32m      5\u001b[0m r2 \u001b[38;5;241m=\u001b[39m [x \u001b[38;5;241m+\u001b[39m bar_width \u001b[38;5;28;01mfor\u001b[39;00m x \u001b[38;5;129;01min\u001b[39;00m r1]\n\u001b[1;32m      7\u001b[0m plt\u001b[38;5;241m.\u001b[39mbar(r1, recalls[\u001b[38;5;241m0\u001b[39m][\u001b[38;5;241m1\u001b[39m:], width\u001b[38;5;241m=\u001b[39mbar_width, edgecolor\u001b[38;5;241m=\u001b[39m\u001b[38;5;124m'\u001b[39m\u001b[38;5;124mgrey\u001b[39m\u001b[38;5;124m'\u001b[39m, label\u001b[38;5;241m=\u001b[39m\u001b[38;5;124m'\u001b[39m\u001b[38;5;124mWith Defense\u001b[39m\u001b[38;5;124m'\u001b[39m)\n\u001b[0;32m----> 8\u001b[0m plt\u001b[38;5;241m.\u001b[39mbar(r2, \u001b[43mrecalls\u001b[49m\u001b[43m[\u001b[49m\u001b[38;5;241;43m1\u001b[39;49m\u001b[43m]\u001b[49m[\u001b[38;5;241m1\u001b[39m:], width\u001b[38;5;241m=\u001b[39mbar_width, edgecolor\u001b[38;5;241m=\u001b[39m\u001b[38;5;124m'\u001b[39m\u001b[38;5;124mgrey\u001b[39m\u001b[38;5;124m'\u001b[39m, label\u001b[38;5;241m=\u001b[39m\u001b[38;5;124m'\u001b[39m\u001b[38;5;124mWithout Defense\u001b[39m\u001b[38;5;124m'\u001b[39m)\n\u001b[1;32m     10\u001b[0m plt\u001b[38;5;241m.\u001b[39mtitle(\u001b[38;5;124m'\u001b[39m\u001b[38;5;124mEffect of Defense Mechanism on Source Class Recall in Poisoning Attacks in FL\u001b[39m\u001b[38;5;124m'\u001b[39m)\n\u001b[1;32m     11\u001b[0m plt\u001b[38;5;241m.\u001b[39mxlabel(\u001b[38;5;124m'\u001b[39m\u001b[38;5;124mMalicious Users Percentage\u001b[39m\u001b[38;5;124m'\u001b[39m, fontweight\u001b[38;5;241m=\u001b[39m\u001b[38;5;124m'\u001b[39m\u001b[38;5;124mbold\u001b[39m\u001b[38;5;124m'\u001b[39m)\n",
      "\u001b[0;31mIndexError\u001b[0m: list index out of range"
     ]
    },
    {
     "data": {
      "image/png": "[encoded data removed]",
      "text/plain": [
       "<Figure size 640x480 with 1 Axes>"
      ]
     },
     "metadata": {},
     "output_type": "display_data"
    }
   ],
   "source": [
    "plt.figure()\n",
    "bar_width = 0.35\n",
    "\n",
    "r1 = np.arange(len(mal[1:]))\n",
    "r2 = [x + bar_width for x in r1]\n",
    "\n",
    "plt.bar(r1, recalls[0][1:], width=bar_width, edgecolor='grey', label='With Defense')\n",
    "plt.bar(r2, recalls[1][1:], width=bar_width, edgecolor='grey', label='Without Defense')\n",
    "\n",
    "plt.title('Effect of Defense Mechanism on Source Class Recall in Poisoning Attacks in FL')\n",
    "plt.xlabel('Malicious Users Percentage', fontweight='bold')\n",
    "plt.ylabel('Source Class Recall', fontweight='bold')\n",
    "\n",
    "plt.xticks([r + bar_width for r in range(len(recalls[0][1:]))], mal[1:])\n",
    "\n",
    "plt.legend()\n",
    "plt.savefig('save/comparison_largest_diff.png')"
   ]
  }
 ],
 "metadata": {
  "kernelspec": {
   "display_name": "Python 3",
   "language": "python",
   "name": "python3"
  },
  "language_info": {
   "codemirror_mode": {
    "name": "ipython",
    "version": 3
   },
   "file_extension": ".py",
   "mimetype": "text/x-python",
   "name": "python",
   "nbconvert_exporter": "python",
   "pygments_lexer": "ipython3",
   "version": "3.10.10"
  },
  "orig_nbformat": 4
 },
 "nbformat": 4,
 "nbformat_minor": 2
}
