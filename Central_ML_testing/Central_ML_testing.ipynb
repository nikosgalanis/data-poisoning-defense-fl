{
 "cells": [
  {
   "cell_type": "code",
   "execution_count": 1,
   "metadata": {},
   "outputs": [],
   "source": [
    "import torch\n",
    "import torch.nn as nn\n",
    "import torch.optim as optim\n",
    "import torchvision\n",
    "import torchvision.transforms as transforms\n",
    "from sklearn.metrics import classification_report\n",
    "from sklearn.metrics import accuracy_score\n",
    "from sklearn.metrics import precision_recall_fscore_support \n",
    "\n",
    "import warnings\n",
    "\n",
    "warnings.filterwarnings(\"ignore\")\n",
    "\n",
    "from manipulate_MNIST import *\n",
    "from Simple_CNN import *"
   ]
  },
  {
   "cell_type": "code",
   "execution_count": 2,
   "metadata": {},
   "outputs": [],
   "source": [
    "# hyperparameters for the model\n",
    "hidden_neurons = 128\n",
    "drop_rate = 0.5\n",
    "batch_size_train = 128\n",
    "learning_rate = 0.001\n",
    "epochs = 3\n",
    "\n",
    "# parameters for the attack\n",
    "mal_percentage = 0.5\n",
    "target_honest = 3\n",
    "target_malicious = 8"
   ]
  },
  {
   "cell_type": "code",
   "execution_count": 3,
   "metadata": {},
   "outputs": [
    {
     "output_type": "stream",
     "name": "stderr",
     "text": "0%|          | 0/9912422 [00:00<?, ?it/s]Downloading http://yann.lecun.com/exdb/mnist/train-images-idx3-ubyte.gz\nDownloading http://yann.lecun.com/exdb/mnist/train-images-idx3-ubyte.gz to ./data/MNIST/raw/train-images-idx3-ubyte.gz\n100%|██████████| 9912422/9912422 [00:00<00:00, 11184576.72it/s]\nExtracting ./data/MNIST/raw/train-images-idx3-ubyte.gz to ./data/MNIST/raw\n100%|██████████| 28881/28881 [00:00<00:00, 14400344.01it/s]\n  0%|          | 0/1648877 [00:00<?, ?it/s]\nDownloading http://yann.lecun.com/exdb/mnist/train-labels-idx1-ubyte.gz\nDownloading http://yann.lecun.com/exdb/mnist/train-labels-idx1-ubyte.gz to ./data/MNIST/raw/train-labels-idx1-ubyte.gz\nExtracting ./data/MNIST/raw/train-labels-idx1-ubyte.gz to ./data/MNIST/raw\n\nDownloading http://yann.lecun.com/exdb/mnist/t10k-images-idx3-ubyte.gz\nDownloading http://yann.lecun.com/exdb/mnist/t10k-images-idx3-ubyte.gz to ./data/MNIST/raw/t10k-images-idx3-ubyte.gz\n100%|██████████| 1648877/1648877 [00:00<00:00, 11086268.42it/s]\n100%|██████████| 4542/4542 [00:00<00:00, 8581319.26it/s]\nExtracting ./data/MNIST/raw/t10k-images-idx3-ubyte.gz to ./data/MNIST/raw\n\nDownloading http://yann.lecun.com/exdb/mnist/t10k-labels-idx1-ubyte.gz\nDownloading http://yann.lecun.com/exdb/mnist/t10k-labels-idx1-ubyte.gz to ./data/MNIST/raw/t10k-labels-idx1-ubyte.gz\nExtracting ./data/MNIST/raw/t10k-labels-idx1-ubyte.gz to ./data/MNIST/raw\n\n100%|██████████| 60000/60000 [00:00<00:00, 147068.19it/s]\n"
    }
   ],
   "source": [
    "# Define the training data pipeline\n",
    "transform = transforms.Compose([transforms.ToTensor(),\n",
    "                                transforms.Normalize((0.5,), (0.5,))])\n",
    "\n",
    "trainset = torchvision.datasets.MNIST(root='./data', train=True,\n",
    "                                      download=True, transform=transform)\n",
    "\n",
    "# perform the label-flipping\n",
    "trainset = generate_malicious_dataset(trainset, mal_percentage, target_honest, target_malicious)\n",
    "\n",
    "trainloader = torch.utils.data.DataLoader(trainset, batch_size=32,\n",
    "                                          shuffle=True, num_workers=2)"
   ]
  },
  {
   "cell_type": "code",
   "execution_count": 4,
   "metadata": {},
   "outputs": [],
   "source": [
    "# Instantiate the network and the optimizer\n",
    "model = SimpleCNN(hidden_neurons, drop_rate)\n",
    "criterion = nn.CrossEntropyLoss()\n",
    "optimizer = optim.SGD(model.parameters(), lr=learning_rate, momentum=0.9)"
   ]
  },
  {
   "cell_type": "code",
   "execution_count": 5,
   "metadata": {},
   "outputs": [],
   "source": [
    "def train_epoch(optimizer, model, data):\n",
    "    running_loss = 0.0\n",
    "    for i, data in enumerate(tqdm(trainloader, 0)):\n",
    "        # get the inputs; data is a list of [inputs, labels]\n",
    "        inputs, labels = data\n",
    "\n",
    "        # zero the parameter gradients\n",
    "        optimizer.zero_grad()\n",
    "\n",
    "        # forward \n",
    "        outputs = model(inputs)\n",
    "        # compute loss\n",
    "        loss = criterion(outputs, labels)\n",
    "        # pass gradients back\n",
    "        loss.backward()\n",
    "        # update parameters\n",
    "        optimizer.step()\n",
    "        preds = torch.argmax(outputs, axis=1)\n",
    "\n",
    "        metrics_list = precision_recall_fscore_support(preds, labels, average='macro')\n",
    "\n",
    "    return loss, metrics_list[0], metrics_list[1], metrics_list[2]\n"
   ]
  },
  {
   "cell_type": "code",
   "execution_count": 6,
   "metadata": {},
   "outputs": [
    {
     "output_type": "stream",
     "name": "stderr",
     "text": "100%|██████████| 1875/1875 [00:57<00:00, 32.35it/s]\n  0%|          | 0/1875 [00:00<?, ?it/s]Epoch:  0  loss:  0.3544  precision:  0.83  recall:  0.8333  f1_score  0.8056\n100%|██████████| 1875/1875 [00:57<00:00, 32.87it/s]\n  0%|          | 0/1875 [00:00<?, ?it/s]Epoch:  1  loss:  0.1966  precision:  0.9167  recall:  0.963  f1_score  0.9269\n100%|██████████| 1875/1875 [01:08<00:00, 27.46it/s]Epoch:  2  loss:  0.2373  precision:  0.8633  recall:  0.835  f1_score  0.8405\n\n"
    }
   ],
   "source": [
    "# Train the network\n",
    "loss = []\n",
    "for epoch in range(epochs):  # loop over the dataset multiple times\n",
    "    epoch_loss, precision, recall, f1_score = train_epoch(optimizer, model, trainloader)\n",
    "    print(\"Epoch: \", epoch, \" loss: \", round(epoch_loss.item(),4), \" precision: \", round(precision, 4), \" recall: \", round(recall, 4), \" f1_score \", round(f1_score, 4))\n",
    "    loss.append(epoch_loss.item())"
   ]
  },
  {
   "cell_type": "code",
   "execution_count": 7,
   "metadata": {},
   "outputs": [
    {
     "output_type": "stream",
     "name": "stdout",
     "text": "Accuracy score: 0.886\n              precision    recall  f1-score   support\n\n           0       0.96      0.98      0.97       980\n           1       0.96      0.99      0.97      1135\n           2       0.96      0.93      0.95      1032\n           3       0.98      0.27      0.43      1010\n           4       0.96      0.96      0.96       982\n           5       0.93      0.95      0.94       892\n           6       0.96      0.97      0.96       958\n           7       0.95      0.94      0.94      1028\n           8       0.55      0.93      0.69       974\n           9       0.92      0.94      0.93      1009\n\n    accuracy                           0.89     10000\n   macro avg       0.91      0.89      0.88     10000\nweighted avg       0.92      0.89      0.88     10000\n\n"
    }
   ],
   "source": [
    "# Define the testing data pipeline\n",
    "testset = torchvision.datasets.MNIST(root='./data', train=False,\n",
    "                                     download=True, transform=transform)\n",
    "testloader = torch.utils.data.DataLoader(testset, batch_size=128,\n",
    "                                         shuffle=False, num_workers=2)\n",
    "\n",
    "# Test the network and print the classification report\n",
    "true_labels = []\n",
    "pred_labels = []\n",
    "\n",
    "with torch.no_grad():\n",
    "    for data in testloader:\n",
    "        images, labels = data\n",
    "        outputs = model(images)\n",
    "        _, predicted = torch.max(outputs.data, 1)\n",
    "        true_labels += labels.tolist()\n",
    "        pred_labels += predicted.tolist()\n",
    "\n",
    "print(\"Accuracy score: {}\".format(round(accuracy_score(pred_labels,true_labels),3)))\n",
    "print(classification_report(true_labels, pred_labels))"
   ]
  }
 ],
 "metadata": {
  "language_info": {
   "codemirror_mode": {
    "name": "ipython",
    "version": 2
   },
   "file_extension": ".py",
   "mimetype": "text/x-python",
   "name": "python",
   "nbconvert_exporter": "python",
   "pygments_lexer": "ipython2",
   "version": "3.8.10-final"
  },
  "orig_nbformat": 2,
  "kernelspec": {
   "name": "python3",
   "display_name": "Python 3"
  }
 },
 "nbformat": 4,
 "nbformat_minor": 2
}