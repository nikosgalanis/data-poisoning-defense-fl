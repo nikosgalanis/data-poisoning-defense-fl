{
  "nbformat": 4,
  "nbformat_minor": 0,
  "metadata": {
    "colab": {
      "provenance": []
    },
    "kernelspec": {
      "name": "python3",
      "display_name": "Python 3"
    },
    "language_info": {
      "name": "python"
    },
    "accelerator": "GPU",
    "gpuClass": "standard"
  },
  "cells": [
    {
      "cell_type": "code",
      "execution_count": 1,
      "metadata": {
        "id": "wXH_9cw4ou41"
      },
      "outputs": [],
      "source": [
        "import torch\n",
        "import torch.nn as nn\n",
        "import torch.optim as optim\n",
        "import torchvision\n",
        "import torchvision.transforms as transforms\n",
        "from sklearn.metrics import classification_report\n",
        "from sklearn.metrics import accuracy_score\n",
        "from sklearn.metrics import precision_recall_fscore_support \n",
        "from torch.utils.data import Subset\n",
        "\n",
        "# For data vizualization \n",
        "import matplotlib as mpl\n",
        "import matplotlib.pyplot as plt\n",
        "import warnings\n",
        "\n",
        "warnings.filterwarnings(\"ignore\")\n",
        "\n",
        "from manipulate_MNIST import *\n",
        "from Simple_CNN import *\n",
        "\n",
        "%load_ext autoreload\n",
        "%autoreload 2"
      ]
    },
    {
      "cell_type": "code",
      "source": [
        "# hyperparameters for the model\n",
        "hidden_neurons = 128\n",
        "drop_rate = 0.5\n",
        "batch_size_train = 128\n",
        "learning_rate = 0.001\n",
        "epochs = 3\n",
        "\n",
        "# parameters for the attack\n",
        "target_honest = 3\n",
        "target_malicious = 8\n",
        "\n",
        "# Honest model 1\n",
        "honest1_params = {'name': \"Honest 1\", 'hidden_neurons': 128, 'drop_rate': 0.5, 'batch_size_train': 64, 'learning_rate': 0.001, 'epochs': 20, 'dataset_precentage': 0.7, 'mal_percentage': 0, 'target_honest': 0, 'target_malicious': 0}\n",
        "# # Honest model 2\n",
        "# honest2_params = {'name': \"Honest 2\", 'hidden_neurons': 64, 'drop_rate': 0.3, 'batch_size_train': 64, 'learning_rate': 0.01, 'epochs': 10, 'dataset_precentage': 0.7, 'mal_percentage': 0, 'target_honest': 0, 'target_malicious': 0}\n",
        "# # Honest model 3\n",
        "# honest3_params = {'name': \"Honest 3\", 'hidden_neurons': 256, 'drop_rate': 0.4, 'batch_size_train': 256, 'learning_rate': 0.003, 'epochs': 10, 'dataset_precentage': 0.7, 'mal_percentage': 0, 'target_honest': 0, 'target_malicious': 0}\n",
        "\n",
        "# Malicious_model 1\n",
        "mal1_params = {'name': \"Malicious 1\", 'hidden_neurons': 256, 'drop_rate': 0.4, 'batch_size_train': 64, 'learning_rate': 0.001, 'epochs': 20, 'dataset_precentage': 0.7, 'mal_percentage': 0.1, 'target_honest': 3, 'target_malicious': 8}\n",
        "\n",
        "# Malicious_model 2\n",
        "mal2_params = {'name': \"Malicious 2\", 'hidden_neurons': 256, 'drop_rate': 0.4, 'batch_size_train': 64, 'learning_rate': 0.001, 'epochs': 20, 'dataset_precentage': 0.7, 'mal_percentage': 0.2, 'target_honest': 3, 'target_malicious': 8}\n",
        "\n",
        "# Malicious_model 3\n",
        "mal3_params = {'name': \"Malicious 3\", 'hidden_neurons': 256, 'drop_rate': 0.4, 'batch_size_train': 64, 'learning_rate': 0.001, 'epochs': 20, 'dataset_precentage': 0.7, 'mal_percentage': 0.3, 'target_honest': 3, 'target_malicious': 8}\n",
        "\n",
        "# Malicious_model 4\n",
        "mal3_params = {'name': \"Malicious 4\", 'hidden_neurons': 256, 'drop_rate': 0.4, 'batch_size_train': 64, 'learning_rate': 0.001, 'epochs': 20, 'dataset_precentage': 0.7, 'mal_percentage': 0.4, 'target_honest': 3, 'target_malicious': 8}\n",
        "\n",
        "models = [honest1_params, mal1_params, mal2_params, mal3_params]\n"
      ],
      "metadata": {
        "id": "a70U90MRo58q"
      },
      "execution_count": 9,
      "outputs": []
    },
    {
      "cell_type": "code",
      "source": [
        "# Define the training data pipeline\n",
        "transform = transforms.Compose([transforms.ToTensor(), transforms.Normalize((0.5,), (0.5,))])\n",
        "\n",
        "# get the original dataset\n",
        "trainset = torchvision.datasets.MNIST(root='./data', train=True, download=True, transform=transform)"
      ],
      "metadata": {
        "id": "3o2uYXE5o9b-"
      },
      "execution_count": 10,
      "outputs": []
    },
    {
      "cell_type": "code",
      "source": [
        "# Check if GPU is available\n",
        "device = torch.device(\"cuda:0\" if torch.cuda.is_available() else \"cpu\")\n",
        "\n",
        "for model in models:\n",
        "    print(model['dataset_precentage'], model['target_honest'], model['target_malicious'])\n",
        "\n",
        "    trainset = generate_malicious_dataset(trainset, model['mal_percentage'], model['target_honest'], model['target_malicious'])\n",
        "    # Create the subset dataset\n",
        "    new_size = int(len(trainset) * model['dataset_precentage'])\n",
        "    subset_dataset = Subset(trainset, list(range(new_size)))\n",
        "\n",
        "    # load it to the trainloader for training\n",
        "    model['trainloader'] = torch.utils.data.DataLoader(subset_dataset, batch_size=128,\n",
        "                                            shuffle=True, num_workers=2)\n",
        "\n",
        "    cnn = SimpleCNN().to(device)\n",
        "    model['model'] = cnn\n",
        "    model['losses'] = []"
      ],
      "metadata": {
        "colab": {
          "base_uri": "https://localhost:8080/"
        },
        "id": "ALxDQkSUo-dC",
        "outputId": "ce3c1ec2-a06f-4efb-ddcd-a89e5bfd7c23"
      },
      "execution_count": 11,
      "outputs": [
        {
          "output_type": "stream",
          "name": "stdout",
          "text": [
            "0.7 0 0\n",
            "0.7 3 8\n"
          ]
        },
        {
          "output_type": "stream",
          "name": "stderr",
          "text": [
            "100%|██████████| 60000/60000 [00:00<00:00, 159457.51it/s]\n"
          ]
        },
        {
          "output_type": "stream",
          "name": "stdout",
          "text": [
            "0.7 3 8\n"
          ]
        },
        {
          "output_type": "stream",
          "name": "stderr",
          "text": [
            "100%|██████████| 60000/60000 [00:00<00:00, 160013.43it/s]\n"
          ]
        },
        {
          "output_type": "stream",
          "name": "stdout",
          "text": [
            "0.7 3 8\n"
          ]
        },
        {
          "output_type": "stream",
          "name": "stderr",
          "text": [
            "100%|██████████| 60000/60000 [00:00<00:00, 165224.40it/s]\n"
          ]
        }
      ]
    },
    {
      "cell_type": "code",
      "source": [
        "\n",
        "criterion = nn.CrossEntropyLoss().to(device)\n",
        "cnn = SimpleCNN().to(device)\n",
        "for e in range(15):\n",
        "\n",
        "    for i, model in enumerate(models):\n",
        "        optimizer = optim.SGD(cnn.parameters(), lr=0.001, momentum=0.9)\n",
        "        # for honest models, train the epoch with the original, honest data\n",
        "        if (\"Honest\" in model['name']):\n",
        "            epoch_loss, precision, recall, f1_score = train_epoch(optimizer, cnn, models[0]['trainloader'], criterion, device)\n",
        "            print(\"Epoch: \", e, \" loss: \", round(epoch_loss,4), \" precision: \", round(precision, 4), \" recall: \", round(recall, 4), \" f1_score \", round(f1_score, 4))\n",
        "            models[0]['losses'].append(epoch_loss)\n",
        "            # for malicious models, test (pass without backprobagating) the train model\n",
        "            # this is a train simulation but without\n",
        "        else:\n",
        "            epoch_loss = predict_test(cnn, model['trainloader'], device, criterion)\n",
        "            print(model['name'] + \": \" + str(epoch_loss))\n",
        "            model['losses'].append(epoch_loss)"
      ],
      "metadata": {
        "colab": {
          "base_uri": "https://localhost:8080/"
        },
        "id": "M7vNekLYpAJu",
        "outputId": "5365b05a-e976-4c64-87b1-cc530da0cadc"
      },
      "execution_count": 13,
      "outputs": [
        {
          "output_type": "stream",
          "name": "stderr",
          "text": [
            "100%|██████████| 329/329 [00:10<00:00, 31.32it/s]"
          ]
        },
        {
          "output_type": "stream",
          "name": "stdout",
          "text": [
            "Epoch:  0  loss:  1.9873  precision:  0.3833  recall:  0.3333  f1_score  0.3167\n"
          ]
        },
        {
          "output_type": "stream",
          "name": "stderr",
          "text": [
            "\n"
          ]
        },
        {
          "output_type": "stream",
          "name": "stdout",
          "text": [
            "Malicious 1: 1.820970058441162\n",
            "Malicious 2: 1.929719090461731\n",
            "Malicious 4: 1.9405856132507324\n"
          ]
        },
        {
          "output_type": "stream",
          "name": "stderr",
          "text": [
            "100%|██████████| 329/329 [00:09<00:00, 32.94it/s]"
          ]
        },
        {
          "output_type": "stream",
          "name": "stdout",
          "text": [
            "Epoch:  1  loss:  0.7946  precision:  0.5741  recall:  0.6296  f1_score  0.5926\n"
          ]
        },
        {
          "output_type": "stream",
          "name": "stderr",
          "text": [
            "\n"
          ]
        },
        {
          "output_type": "stream",
          "name": "stdout",
          "text": [
            "Malicious 1: 0.9851329326629639\n",
            "Malicious 2: 1.2862297296524048\n",
            "Malicious 4: 1.069980502128601\n"
          ]
        },
        {
          "output_type": "stream",
          "name": "stderr",
          "text": [
            "100%|██████████| 329/329 [00:11<00:00, 29.81it/s]"
          ]
        },
        {
          "output_type": "stream",
          "name": "stdout",
          "text": [
            "Epoch:  2  loss:  0.2069  precision:  1.0  recall:  1.0  f1_score  1.0\n"
          ]
        },
        {
          "output_type": "stream",
          "name": "stderr",
          "text": [
            "\n"
          ]
        },
        {
          "output_type": "stream",
          "name": "stdout",
          "text": [
            "Malicious 1: 0.6459866762161255\n",
            "Malicious 2: 1.333429217338562\n",
            "Malicious 4: 0.48082929849624634\n"
          ]
        },
        {
          "output_type": "stream",
          "name": "stderr",
          "text": [
            "100%|██████████| 329/329 [00:11<00:00, 29.74it/s]"
          ]
        },
        {
          "output_type": "stream",
          "name": "stdout",
          "text": [
            "Epoch:  3  loss:  0.2881  precision:  0.6875  recall:  0.7083  f1_score  0.6833\n"
          ]
        },
        {
          "output_type": "stream",
          "name": "stderr",
          "text": [
            "\n"
          ]
        },
        {
          "output_type": "stream",
          "name": "stdout",
          "text": [
            "Malicious 1: 0.16530250012874603\n",
            "Malicious 2: 0.42153945565223694\n",
            "Malicious 4: 0.26639068126678467\n"
          ]
        },
        {
          "output_type": "stream",
          "name": "stderr",
          "text": [
            "100%|██████████| 329/329 [00:11<00:00, 29.86it/s]"
          ]
        },
        {
          "output_type": "stream",
          "name": "stdout",
          "text": [
            "Epoch:  4  loss:  0.4417  precision:  0.8125  recall:  0.7917  f1_score  0.7833\n"
          ]
        },
        {
          "output_type": "stream",
          "name": "stderr",
          "text": [
            "\n"
          ]
        },
        {
          "output_type": "stream",
          "name": "stdout",
          "text": [
            "Malicious 1: 0.6625771522521973\n",
            "Malicious 2: 0.39770108461380005\n",
            "Malicious 4: 0.366189181804657\n"
          ]
        },
        {
          "output_type": "stream",
          "name": "stderr",
          "text": [
            "100%|██████████| 329/329 [00:10<00:00, 30.53it/s]"
          ]
        },
        {
          "output_type": "stream",
          "name": "stdout",
          "text": [
            "Epoch:  5  loss:  0.0742  precision:  1.0  recall:  1.0  f1_score  1.0\n"
          ]
        },
        {
          "output_type": "stream",
          "name": "stderr",
          "text": [
            "\n"
          ]
        },
        {
          "output_type": "stream",
          "name": "stdout",
          "text": [
            "Malicious 1: 0.3613189458847046\n",
            "Malicious 2: 0.12680377066135406\n",
            "Malicious 4: 0.07002076506614685\n"
          ]
        },
        {
          "output_type": "stream",
          "name": "stderr",
          "text": [
            "100%|██████████| 329/329 [00:10<00:00, 30.28it/s]"
          ]
        },
        {
          "output_type": "stream",
          "name": "stdout",
          "text": [
            "Epoch:  6  loss:  0.2891  precision:  0.8148  recall:  0.8333  f1_score  0.7963\n"
          ]
        },
        {
          "output_type": "stream",
          "name": "stderr",
          "text": [
            "\n"
          ]
        },
        {
          "output_type": "stream",
          "name": "stdout",
          "text": [
            "Malicious 1: 0.3214474320411682\n",
            "Malicious 2: 0.08054225891828537\n",
            "Malicious 4: 0.33157095313072205\n"
          ]
        },
        {
          "output_type": "stream",
          "name": "stderr",
          "text": [
            "100%|██████████| 329/329 [00:10<00:00, 30.73it/s]"
          ]
        },
        {
          "output_type": "stream",
          "name": "stdout",
          "text": [
            "Epoch:  7  loss:  0.4234  precision:  0.7037  recall:  0.6852  f1_score  0.6741\n"
          ]
        },
        {
          "output_type": "stream",
          "name": "stderr",
          "text": [
            "\n"
          ]
        },
        {
          "output_type": "stream",
          "name": "stdout",
          "text": [
            "Malicious 1: 0.08022367209196091\n",
            "Malicious 2: 0.5282945036888123\n",
            "Malicious 4: 0.046227190643548965\n"
          ]
        },
        {
          "output_type": "stream",
          "name": "stderr",
          "text": [
            "100%|██████████| 329/329 [00:12<00:00, 27.30it/s]"
          ]
        },
        {
          "output_type": "stream",
          "name": "stdout",
          "text": [
            "Epoch:  8  loss:  0.0512  precision:  1.0  recall:  1.0  f1_score  1.0\n"
          ]
        },
        {
          "output_type": "stream",
          "name": "stderr",
          "text": [
            "\n"
          ]
        },
        {
          "output_type": "stream",
          "name": "stdout",
          "text": [
            "Malicious 1: 0.4608003497123718\n",
            "Malicious 2: 0.3243482708930969\n",
            "Malicious 4: 0.1180756613612175\n"
          ]
        },
        {
          "output_type": "stream",
          "name": "stderr",
          "text": [
            "100%|██████████| 329/329 [00:10<00:00, 30.04it/s]"
          ]
        },
        {
          "output_type": "stream",
          "name": "stdout",
          "text": [
            "Epoch:  9  loss:  0.022  precision:  1.0  recall:  1.0  f1_score  1.0\n"
          ]
        },
        {
          "output_type": "stream",
          "name": "stderr",
          "text": [
            "\n"
          ]
        },
        {
          "output_type": "stream",
          "name": "stdout",
          "text": [
            "Malicious 1: 0.8201004266738892\n",
            "Malicious 2: 0.061146996915340424\n",
            "Malicious 4: 0.04282344505190849\n"
          ]
        },
        {
          "output_type": "stream",
          "name": "stderr",
          "text": [
            "100%|██████████| 329/329 [00:10<00:00, 30.39it/s]"
          ]
        },
        {
          "output_type": "stream",
          "name": "stdout",
          "text": [
            "Epoch:  10  loss:  0.0997  precision:  0.9  recall:  0.85  f1_score  0.8667\n"
          ]
        },
        {
          "output_type": "stream",
          "name": "stderr",
          "text": [
            "\n"
          ]
        },
        {
          "output_type": "stream",
          "name": "stdout",
          "text": [
            "Malicious 1: 0.1532614380121231\n",
            "Malicious 2: 0.7478690147399902\n",
            "Malicious 4: 0.006198272109031677\n"
          ]
        },
        {
          "output_type": "stream",
          "name": "stderr",
          "text": [
            "100%|██████████| 329/329 [00:10<00:00, 30.27it/s]"
          ]
        },
        {
          "output_type": "stream",
          "name": "stdout",
          "text": [
            "Epoch:  11  loss:  0.0979  precision:  1.0  recall:  1.0  f1_score  1.0\n"
          ]
        },
        {
          "output_type": "stream",
          "name": "stderr",
          "text": [
            "\n"
          ]
        },
        {
          "output_type": "stream",
          "name": "stdout",
          "text": [
            "Malicious 1: 0.05660621449351311\n",
            "Malicious 2: 0.15114514529705048\n",
            "Malicious 4: 0.017513154074549675\n"
          ]
        },
        {
          "output_type": "stream",
          "name": "stderr",
          "text": [
            "100%|██████████| 329/329 [00:12<00:00, 26.98it/s]"
          ]
        },
        {
          "output_type": "stream",
          "name": "stdout",
          "text": [
            "Epoch:  12  loss:  0.5617  precision:  0.9375  recall:  0.9375  f1_score  0.9167\n"
          ]
        },
        {
          "output_type": "stream",
          "name": "stderr",
          "text": [
            "\n"
          ]
        },
        {
          "output_type": "stream",
          "name": "stdout",
          "text": [
            "Malicious 1: 0.10907769203186035\n",
            "Malicious 2: 0.145597442984581\n",
            "Malicious 4: 0.5909849405288696\n"
          ]
        },
        {
          "output_type": "stream",
          "name": "stderr",
          "text": [
            "100%|██████████| 329/329 [00:10<00:00, 30.37it/s]"
          ]
        },
        {
          "output_type": "stream",
          "name": "stdout",
          "text": [
            "Epoch:  13  loss:  0.0742  precision:  1.0  recall:  1.0  f1_score  1.0\n"
          ]
        },
        {
          "output_type": "stream",
          "name": "stderr",
          "text": [
            "\n"
          ]
        },
        {
          "output_type": "stream",
          "name": "stdout",
          "text": [
            "Malicious 1: 0.013840621337294579\n",
            "Malicious 2: 0.5403517484664917\n",
            "Malicious 4: 0.6362733840942383\n"
          ]
        },
        {
          "output_type": "stream",
          "name": "stderr",
          "text": [
            "100%|██████████| 329/329 [00:11<00:00, 29.76it/s]"
          ]
        },
        {
          "output_type": "stream",
          "name": "stdout",
          "text": [
            "Epoch:  14  loss:  0.3464  precision:  0.8333  recall:  0.85  f1_score  0.8167\n"
          ]
        },
        {
          "output_type": "stream",
          "name": "stderr",
          "text": [
            "\n"
          ]
        },
        {
          "output_type": "stream",
          "name": "stdout",
          "text": [
            "Malicious 1: 0.1222749799489975\n",
            "Malicious 2: 0.0534336194396019\n",
            "Malicious 4: 1.0761175155639648\n"
          ]
        }
      ]
    },
    {
      "cell_type": "code",
      "source": [
        "epochs = [i for i in range(15)]\n",
        "for model in models:\n",
        "    if \"Honest\" in model['name']:\n",
        "        plt.plot(epochs, model['losses'], label=model['name'], linewidth=4)\n",
        "    else:\n",
        "        plt.plot(epochs, model['losses'], label=model['name'])\n",
        "\n",
        "        \n",
        "\n",
        "plt.xlabel(\"Epochs\", fontsize=15)\n",
        "plt.ylabel(\"CrossEntropy Loss\", fontsize=15)\n",
        "plt.legend()\n",
        "plt.show()"
      ],
      "metadata": {
        "colab": {
          "base_uri": "https://localhost:8080/",
          "height": 284
        },
        "id": "VhbyoUn0pJto",
        "outputId": "8b1eb604-9490-4854-8cb8-ef2074c764a3"
      },
      "execution_count": 14,
      "outputs": [
        {
          "output_type": "display_data",
          "data": {
            "text/plain": [
              "<Figure size 432x288 with 1 Axes>"
            ],
            "image/png": "[encoded data removed]"
          },
          "metadata": {
            "needs_background": "light"
          }
        }
      ]
    }
  ]
}